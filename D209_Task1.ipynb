{
 "cells": [
  {
   "cell_type": "markdown",
   "id": "2612abad",
   "metadata": {
    "id": "ee5e0528-d4bd-4530-80b9-16d63c983cc2"
   },
   "source": [
    "# D209 - Data Mining I\n",
    "___\n",
    "## Performance Assessment - Task 1: Classification Analysis\n",
    "### Medical Readmission Data Set (Clean)\n",
    "---\n",
    "<br></br>"
   ]
  },
  {
   "cell_type": "markdown",
   "id": "335bf2a9",
   "metadata": {},
   "source": [
    "## Part I - Research Question"
   ]
  },
  {
   "cell_type": "markdown",
   "id": "1830b4d6",
   "metadata": {
    "id": "827a1155-8009-412a-bb18-3b502189c21f"
   },
   "source": [
    "### A1: Proposal of Question"
   ]
  },
  {
   "cell_type": "markdown",
   "id": "df7dedc3",
   "metadata": {},
   "source": [
    "The central research question addressed by this analysis is to determine:\n",
    "\n",
    ">What variables from the medical dataset influence a patient's probability of being readmitted to the hospital following an initial admission (`ReAdmis`)? \n",
    "\n",
    "In terms of hypothesis testing, our null hypothesis ($H_0$) is:\n",
    "\n",
    ">One or more variables included in the medical dataset influence readmission probability (`ReAdmis`) in any statistically significant way.\n",
    "\n",
    "Additionally, our alternate hypothesis ($H_1$) is:\n",
    "\n",
    ">No variables included in the medical dataset influence readmission probability (`ReAdmis`) in a statistically significant way.\n"
   ]
  },
  {
   "cell_type": "markdown",
   "id": "537147e9",
   "metadata": {
    "id": "374a65c2-f393-4bd6-aaeb-3ccb08e28e00"
   },
   "source": [
    "### A2: Defined Goal"
   ]
  },
  {
   "cell_type": "markdown",
   "id": "42079ba1",
   "metadata": {},
   "source": [
    "The primary goal of the following analysis is to discover what predictors potentially increase the likelihood a patient will be readmitted after initial hospitalization (`ReAdmis`). This will be assessed using the $\\hbox{Python}$ programming language using the technique of multiple logistic regression to identify causal relationships between one or more predictor variables and a binary target variable."
   ]
  },
  {
   "cell_type": "markdown",
   "id": "d5c66706",
   "metadata": {
    "id": "Rc_zQyVMaK6H"
   },
   "source": [
    "## Part II - Method Justification"
   ]
  },
  {
   "cell_type": "markdown",
   "id": "9df897bc",
   "metadata": {},
   "source": [
    "### B1: Explanation of Classification Method"
   ]
  },
  {
   "cell_type": "markdown",
   "id": "2b697955",
   "metadata": {},
   "source": []
  },
  {
   "cell_type": "markdown",
   "id": "2780ab48",
   "metadata": {},
   "source": [
    "### B2: Summary of Method Assumptions"
   ]
  },
  {
   "cell_type": "markdown",
   "id": "e0d00c7b",
   "metadata": {},
   "source": [
    "The following are basic assumptions of logistic regression:\n",
    "\n",
    "-   The assumption of binary predictor outcome (between 0 and 1)\n",
    "-   The assumption of linearity of continuous predictor variables\n",
    "-   The assumption of non-multicollinearity of predictor variables\n",
    "-   The assumption of no significantly influential outliers in dataset"
   ]
  },
  {
   "cell_type": "markdown",
   "id": "e4a67b13",
   "metadata": {},
   "source": [
    "### B3: Packages/Libraries List"
   ]
  },
  {
   "cell_type": "code",
   "execution_count": null,
   "id": "fcdfa9e3",
   "metadata": {},
   "outputs": [],
   "source": [
    "import numpy as np\n",
    "import pandas as pd"
   ]
  },
  {
   "cell_type": "markdown",
   "id": "2b697955",
   "metadata": {},
   "source": []
  },
  {
   "cell_type": "markdown",
   "id": "631de5ff",
   "metadata": {
    "id": "Rc_zQyVMaK6H"
   },
   "source": [
    "## Part III - Data Preparation"
   ]
  },
  {
   "cell_type": "markdown",
   "id": "0e9f2d0b",
   "metadata": {},
   "source": [
    "### C1: Data Preprocessing"
   ]
  },
  {
   "cell_type": "markdown",
   "id": "2b697955",
   "metadata": {},
   "source": [
    "The process we will need to complete in order to prepare the data for model selection is relatively minor, given that the raw dataset used in this project has already been cleaned in a prior project (see project D206 - Data Cleaning). Using the pre-cleaned dataset, we will first partition the data to include only those variables we intend to feed into our initial model. Because the first model selection process we will use is backward-oriented, this initial model will include all features that could possibly have a relationship to the binary target variable of readmission (`ReAdmis`). This will include a mix of numeric and categorical variables. \n",
    "\n",
    "Next, we will need to ensure that the data type of each variable is appropriate for that kind of feature. For example, we will determine which variables are categorical and need to be coded as a factor in $\\hbox{Python}$. Once the dataset for the initial model has been partitioned and transformed (or converted to the right type, at least), we will look over the dataset to ensure that we have not created any problems in the process such as silently introducing null values."
   ]
  },
  {
   "cell_type": "markdown",
   "id": "6288a3cf",
   "metadata": {},
   "source": [
    "### C2: Dataset Variables"
   ]
  },
  {
   "cell_type": "markdown",
   "id": "2fd0934d",
   "metadata": {},
   "source": []
  },
  {
   "cell_type": "markdown",
   "id": "c600a345",
   "metadata": {},
   "source": [
    "### C3: Steps for Analysis"
   ]
  },
  {
   "cell_type": "markdown",
   "id": "2b697955",
   "metadata": {},
   "source": []
  },
  {
   "cell_type": "markdown",
   "id": "c6ac7ca0",
   "metadata": {},
   "source": [
    "### C4: Cleaned Dataset"
   ]
  },
  {
   "cell_type": "code",
   "execution_count": null,
   "id": "e93dff02",
   "metadata": {},
   "outputs": [],
   "source": [
    "pd.to_csv()"
   ]
  },
  {
   "cell_type": "markdown",
   "id": "67178d01",
   "metadata": {},
   "source": [
    "## Part IV - Analysis"
   ]
  },
  {
   "cell_type": "markdown",
   "id": "c079f7e6",
   "metadata": {},
   "source": [
    "### D1: Splitting the Data"
   ]
  },
  {
   "cell_type": "markdown",
   "id": "7767cc8c",
   "metadata": {},
   "source": [
    "### D2: Output & Intermediate Calculations"
   ]
  },
  {
   "cell_type": "markdown",
   "id": "5cc5f2e6",
   "metadata": {},
   "source": [
    "### D3: Code Execution"
   ]
  },
  {
   "cell_type": "markdown",
   "id": "f2ea2797",
   "metadata": {},
   "source": [
    "## Part V - Data Summary & Implications"
   ]
  },
  {
   "cell_type": "markdown",
   "id": "f77e7638",
   "metadata": {},
   "source": [
    "### E1: Accuracy & AUC"
   ]
  },
  {
   "cell_type": "markdown",
   "id": "44ec8ab7",
   "metadata": {},
   "source": [
    "### E2: Results & Implications"
   ]
  },
  {
   "cell_type": "markdown",
   "id": "a411da08",
   "metadata": {},
   "source": [
    "### E3: Limitations"
   ]
  },
  {
   "cell_type": "markdown",
   "id": "a411da08",
   "metadata": {},
   "source": [
    "### E4: Course of Action"
   ]
  },
  {
   "cell_type": "markdown",
   "id": "c2d96e0f",
   "metadata": {
    "id": "3DCr5UNGb3gM"
   },
   "source": [
    "### H: Sources\n"
   ]
  }
 ],
 "metadata": {
  "colab": {
   "collapsed_sections": [],
   "name": "D207.ipynb",
   "provenance": [],
   "toc_visible": true
  },
  "interpreter": {
   "hash": "ee7b3818a6aefd810aeff047263e717e803ea4abd6d74acb2763496f3efe31f7"
  },
  "kernelspec": {
   "display_name": "Python 3.8.8 64-bit ('D208': conda)",
   "name": "python3"
  },
  "language_info": {
   "codemirror_mode": {
    "name": "ipython",
    "version": 3
   },
   "file_extension": ".py",
   "mimetype": "text/x-python",
   "name": "python",
   "nbconvert_exporter": "python",
   "pygments_lexer": "ipython3",
   "version": "3.9.7"
  }
 },
 "nbformat": 4,
 "nbformat_minor": 5
}
