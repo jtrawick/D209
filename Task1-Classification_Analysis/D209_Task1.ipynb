{
 "cells": [
  {
   "cell_type": "markdown",
   "id": "2612abad",
   "metadata": {
    "id": "ee5e0528-d4bd-4530-80b9-16d63c983cc2"
   },
   "source": [
    "# D209 - Data Mining I\n",
    "___\n",
    "## Performance Assessment - Task 1: Classification Analysis\n",
    "### Medical Readmission Data Set (Clean)\n",
    "---\n",
    "<br></br>"
   ]
  },
  {
   "cell_type": "markdown",
   "id": "335bf2a9",
   "metadata": {},
   "source": [
    "## Part I - Research Question"
   ]
  },
  {
   "cell_type": "markdown",
   "id": "1830b4d6",
   "metadata": {
    "id": "827a1155-8009-412a-bb18-3b502189c21f"
   },
   "source": [
    "### A1: Proposal of Question"
   ]
  },
  {
   "cell_type": "markdown",
   "id": "df7dedc3",
   "metadata": {},
   "source": [
    "The central research question addressed by this analysis is to determine:\n",
    "\n",
    ">Can a patient's readmission (`ReAdmis`) status (`Yes/No`) be accurately classified given their recorded vitamin D level (`VitD_levels`) and number of days initially hospitalized (`Initial_days`)? \n",
    "\n",
    "In terms of hypothesis testing, our null hypothesis ($H_0$) is:\n",
    "\n",
    ">The recorded vitamin D level (`VitD_levels`) and length of initial hospitalization (`Initial_days`) features from the medical readmission dataset have *no* statistically significant predictive power to classify a given patient's readmission status (`ReAdmis`).\n",
    "\n",
    "Additionally, our alternate hypothesis ($H_1$) is:\n",
    "\n",
    ">The recorded vitamin D levels (`VitD_levels`) and length of initial hospitalization (`Initial_days`) features from the medical readmission dataset *do* classify a given patient's readmission status (`ReAdmis`) in a statistically significant way."
   ]
  },
  {
   "cell_type": "markdown",
   "id": "537147e9",
   "metadata": {
    "id": "374a65c2-f393-4bd6-aaeb-3ccb08e28e00"
   },
   "source": [
    "### A2: Defined Goal"
   ]
  },
  {
   "cell_type": "markdown",
   "id": "42079ba1",
   "metadata": {},
   "source": [
    "The primary goal of the following analysis is to discover whether or not the vitamin D level (`VitD_levels`) and initial length of hospitalization (`Initial_days`) features of the medical readmission dataset will be sufficient to accurately classify readmission status of a given patient (`ReAdmis`) using the K-Nearest Neighbors model. This will be assessed using the $\\hbox{Python}$ programming language using libraries including `pandas`, `sklearn`, `plotly`, and others to achieve the goal of statistically significant classification of the target feature `ReAdmis`."
   ]
  },
  {
   "cell_type": "markdown",
   "id": "d5c66706",
   "metadata": {
    "id": "Rc_zQyVMaK6H"
   },
   "source": [
    "## Part II - Method Justification"
   ]
  },
  {
   "cell_type": "markdown",
   "id": "9df897bc",
   "metadata": {},
   "source": [
    "### B1: Explanation of Classification Method"
   ]
  },
  {
   "cell_type": "markdown",
   "id": "2b697955",
   "metadata": {},
   "source": [
    "The selected classification method, $k$-Nearest Neighbors, is a relatively simple algorithm. It works by selecting a value, $k$, representing the number of similar features, evaluating the $k$ most similar features, then each of the $k$ \"nearest neighbors\" or most similar features represent a \"vote\" based on their respective classification. The category with the most \"votes\" is then determined to be the category of the feature in question. This analysis aims to identify an appropriate $k$-value and evaluate the classification of the target variable (`ReAdmis`). The expected outcome would be a binary of \"Yes\" or \"No\" depending on whether or not the patient was readmitted to the hospital. If the model proves to be useful in classifying readmission, we could expect to see a statistically significant accuracy in selecting the appropriate classification."
   ]
  },
  {
   "cell_type": "markdown",
   "id": "2780ab48",
   "metadata": {},
   "source": [
    "### B2: Summary of Method Assumptions"
   ]
  },
  {
   "cell_type": "markdown",
   "id": "e0d00c7b",
   "metadata": {},
   "source": [
    "The $k\\text{NN}$ model has very few assumptions, which enables it to be a potentially useful model for many disparate applications. However, one important assumption of the $k\\text{NN}$ algorithm for our particular application is the assumption that the $k$-value is more useful and predictive if it is an odd number, so that the \"voting\" does not fall into an even split.  "
   ]
  },
  {
   "cell_type": "markdown",
   "id": "e4a67b13",
   "metadata": {},
   "source": [
    "### B3: Packages/Libraries List"
   ]
  },
  {
   "cell_type": "code",
   "execution_count": 1,
   "id": "fe3a25a2",
   "metadata": {},
   "outputs": [],
   "source": [
    "# Load in libraries needed\n",
    "import pandas as pd\n",
    "from sklearn.neighbors import KNeighborsClassifier\n",
    "from sklearn.model_selection import train_test_split\n",
    "from sklearn.metrics import confusion_matrix, roc_curve, auc\n",
    "import plotly.express as px\n",
    "import matplotlib.pyplot as plt\n",
    "\n",
    "# Read medical dataset into dataframe as df\n",
    "df = pd.read_csv('./data/medical_clean.csv')"
   ]
  },
  {
   "cell_type": "markdown",
   "id": "2b697955",
   "metadata": {},
   "source": [
    "The following $\\hbox{Python}$ libraries and packages will be utilized in this analysis:\n",
    " - `pandas`\n",
    " - `KNeighborsClassifier` from `sklearn.neighbors`\n",
    " - `train_test_split` from `sklearn.model_selection`\n",
    " - `confusion_matrix`, `roc_curve`, and `auc` from `sklearn.metrics`\n",
    " - `plotly.express`\n",
    " - `matplotlib.pyplot`\n",
    "\n",
    "**Pandas**\n",
    "\n",
    " - The `pandas` library will be heavily relied upon for the initial import, filtering and general preparation of the data prior to running our analysis. \n",
    "\n",
    "**KNeighborsClassifier**\n",
    "\n",
    " - The `KNeighborsClassifier` package from the `sklearn.neighbors` library will be used to select a value for $k$, fit/train, and test the $k\\text{NN}$ algorithm on the dataset.  \n",
    "\n",
    "**Train_test_split**\n",
    "\n",
    " - The `train_test_split` package from the `sklearn.model_selection` library will be used to facilitate the splitting of the sub-selected dataset. It provides a quick and easy way to select a random sample to reserve for testing the model once trained.\n",
    "\n",
    "**Confusion_matrix**, **roc_curve**, and **auc**\n",
    "\n",
    " - The `confusion_matrix` package from the `sklearn.metrics` library will be used to evaluate the $k\\text{NN}$ model on the test once trained. When input with predictions and actuals (test set), it provides a matrix showing the accuracy of the predictions in the form of true/false positive/negative.  \n",
    " - The `roc_curve` package from the `sklearn.metrics` library will be used to evaluate the accuracy of the $k\\text{NN}$ model in conjunction with the `auc` package.  \n",
    " - The `auc` package from the `sklearn.metrics` library will also be used to evaluate the accuracy of the $k\\text{NN}$ model in conjunction with the `roc_curve` package.\n",
    "\n",
    "**Plotly Express**\n",
    "\n",
    " - The `Plotly Express` library will be used to graphically represent the composition of the data, the confusion matrix, the optimization of the model, and any other similar visual as needed.\n",
    "\n",
    "**Matplotlib**\n",
    "\n",
    " - The `matplotlib` library will be used to graphically represent the ROC-AUC of the model."
   ]
  },
  {
   "cell_type": "markdown",
   "id": "631de5ff",
   "metadata": {
    "id": "Rc_zQyVMaK6H"
   },
   "source": [
    "## Part III - Data Preparation"
   ]
  },
  {
   "cell_type": "markdown",
   "id": "0e9f2d0b",
   "metadata": {},
   "source": [
    "### C1: Data Preprocessing"
   ]
  },
  {
   "cell_type": "markdown",
   "id": "2b697955",
   "metadata": {},
   "source": [
    "The process to complete to prepare the data for model selection is relatively minor, given that the raw dataset used in this project has already been cleaned in a prior project (see project D206 - Data Cleaning). Using the pre-cleaned dataset, we will first partition the data to include only those variables we intend to feed into our model. As described above, our model input will consist of the predictor numeric features `VitD_levels` (continuous) and `Initial_days` (continuous) as well as the binary target feature `ReAdmis`.\n",
    "\n",
    "Next, we will need to ensure that the data type of each variable is appropriate for that kind of feature. For example, we will ensure that, because `ReAdmis` is a binary, categorical feature, is transformed with dummy encoding in $\\hbox{Python}$."
   ]
  },
  {
   "cell_type": "markdown",
   "id": "6288a3cf",
   "metadata": {},
   "source": [
    "### C2: Dataset Variables"
   ]
  },
  {
   "cell_type": "markdown",
   "id": "2fd0934d",
   "metadata": {},
   "source": [
    "As addressed above, the variables used in the following KNN classification analysis will include the predictor variables `VitD_levels`, `Initial_days`, and the target variable `ReAdmis`. \n",
    "\n",
    "The data types of the variables are as follows:\n",
    "\n",
    "|Variable|Type|Subtype|\n",
    "|:-:|:-:|:-:|\n",
    "|`VitD_levels`|Numeric|Continuous|\n",
    "|`Initials_days`|Numeric|Continuous|\n",
    "|`ReAdmis`|Categorical|Binary|\n",
    "\n"
   ]
  },
  {
   "cell_type": "markdown",
   "id": "c600a345",
   "metadata": {},
   "source": [
    "### C3: Steps for Analysis"
   ]
  },
  {
   "cell_type": "markdown",
   "id": "2b697955",
   "metadata": {},
   "source": [
    "The following steps were taken to perform the analysis:\n",
    "\n",
    "*The steps enumerated correspond to code segments in section D3*\n",
    "\n",
    " - **[Step 1 - Load in libraries and dataset](#step-1---load-in-libraries-and-dataset)**\n",
    "   - This initial step involves importing the necessary libraries and modules as well as reading-in the initial dataset. Finally, the initial dataset is inspected using the `.info()` method to take a quick glance at all of the features and ensure no NaNs are present.\n",
    " - **[Step 2 - Subset data & initial EDA](#step-2---subset-data--initial-eda)**\n",
    "   - This step takes the initial dataset and selects out the `Initial_days`, `VitD_levels`, and `ReAdmis` features. Those features are explored using descriptive statistics and some simple visualizations. \n",
    " - **[Step 3 - Prepare subset data for analysis](#step-3---prepare-subset-data-for-analysis)**\n",
    "   - The subset data is then prepared by ensuring the correct datatypes are used (setting ReAdmis feature to category type), then splitting the data for training and testing.\n",
    " - **[Step 4 - Set KNN, fit, and test](#step-4---set-knn-fit-and-test)**\n",
    "   - The initial number of `n_neighbors` is set on $k\\text{NN}$ as 7. Then the data is fit to the $k\\text{NN}$ model and testing is performed on the `X_test` and `y_test` data to evaluate the model.\n",
    " - **[Step 5 - Solve for optimal `n_neighbors`](#step-5---solve-for-optimal-nneighbors)**\n",
    "   - Lastly, in order to optimize the model, an algorithm is used to test using a `n_neighbors` value of 1-20. A plot is then generated to view the `knn.score` value on the y-axis and the `n_neighbors` value on the x-axis to identify the optimal value. "
   ]
  },
  {
   "cell_type": "markdown",
   "id": "c6ac7ca0",
   "metadata": {},
   "source": [
    "### C4: Cleaned Dataset"
   ]
  },
  {
   "cell_type": "markdown",
   "id": "e93dff02",
   "metadata": {},
   "source": [
    "```\n",
    "# Write cleaned dataset to .csv\n",
    "df1.to_csv('./data/d209_cleaned_dataset.csv')\n",
    "```\n",
    "\n",
    "Please see attached, cleaned dataset included in Task 1 submission."
   ]
  },
  {
   "cell_type": "markdown",
   "id": "67178d01",
   "metadata": {},
   "source": [
    "## Part IV - Analysis"
   ]
  },
  {
   "cell_type": "markdown",
   "id": "c079f7e6",
   "metadata": {},
   "source": [
    "### D1: Splitting the Data"
   ]
  },
  {
   "cell_type": "markdown",
   "id": "2a21a4fe",
   "metadata": {},
   "source": [
    "We will use the module `train_test_split` from the `sklearn` library to split the dataset. This tool makes the process of splitting quite simple. The split percentage will be 80/20 with 80% of the total observations utilized in training the model, while the remaining 20% will be reserved for testing the model. Additionally, as described in the code below, a random seed of 42 was chosen for the randomization. Seed 42 was chosen at random as well.\n",
    "\n",
    "```\n",
    "# Declare X as df1 Initial_days and VitD_levels\n",
    "# without target feature ReAdmis\n",
    "X = df1.drop(['ReAdmis'],\n",
    "             axis=1)\n",
    "\n",
    "# Declare y as df1 Readmis target feature \n",
    "y = df1.ReAdmis\n",
    "\n",
    "# Split data using 80/20 split and seed 42\n",
    "X_train, X_test, y_train, y_test = train_test_split(X, y, test_size=.2, random_state=42)\n",
    "\n",
    "# Set kNN k=7 and fit to training data\n",
    "knn = KNeighborsClassifier(7)\n",
    "knn.fit(X_train,\n",
    "        y_train)\n",
    "\n",
    "# Test kNN on test data\n",
    "knn.score(X_test,\n",
    "          y_test)\n",
    "```"
   ]
  },
  {
   "cell_type": "markdown",
   "id": "7767cc8c",
   "metadata": {},
   "source": [
    "### D2: Output & Intermediate Calculations"
   ]
  },
  {
   "cell_type": "markdown",
   "id": "619439a8",
   "metadata": {},
   "source": [
    "The present analysis consists primarily of the $k\\text{NN}$ algorithm and determining the optimal value for `n_neighbors`. After first preparing the data for analysis, minor EDA steps, such as preparing descriptive statistics and visualizing the data through the use of boxplots on the selected features, are taken to gain a bit of perspective prior to modelling. After brief EDA, a preliminary attempt to fit the training data to the $k\\text{NN}$ model is performed. The value of $k$ is arbitrarily selected as a first step prior to running further analysis on optimizing $k$. Finally, the optimization analysis is performed Below are examples of the above-mentioned intermediate steps:"
   ]
  },
  {
   "cell_type": "code",
   "execution_count": 2,
   "id": "27b966d2",
   "metadata": {},
   "outputs": [
    {
     "data": {
      "text/html": [
       "<div>\n",
       "<style scoped>\n",
       "    .dataframe tbody tr th:only-of-type {\n",
       "        vertical-align: middle;\n",
       "    }\n",
       "\n",
       "    .dataframe tbody tr th {\n",
       "        vertical-align: top;\n",
       "    }\n",
       "\n",
       "    .dataframe thead th {\n",
       "        text-align: right;\n",
       "    }\n",
       "</style>\n",
       "<table border=\"1\" class=\"dataframe\">\n",
       "  <thead>\n",
       "    <tr style=\"text-align: right;\">\n",
       "      <th></th>\n",
       "      <th>Initial_days</th>\n",
       "      <th>VitD_levels</th>\n",
       "    </tr>\n",
       "  </thead>\n",
       "  <tbody>\n",
       "    <tr>\n",
       "      <th>count</th>\n",
       "      <td>10000.000000</td>\n",
       "      <td>10000.000000</td>\n",
       "    </tr>\n",
       "    <tr>\n",
       "      <th>mean</th>\n",
       "      <td>34.455299</td>\n",
       "      <td>17.964262</td>\n",
       "    </tr>\n",
       "    <tr>\n",
       "      <th>std</th>\n",
       "      <td>26.309341</td>\n",
       "      <td>2.017231</td>\n",
       "    </tr>\n",
       "    <tr>\n",
       "      <th>min</th>\n",
       "      <td>1.001981</td>\n",
       "      <td>9.806483</td>\n",
       "    </tr>\n",
       "    <tr>\n",
       "      <th>25%</th>\n",
       "      <td>7.896215</td>\n",
       "      <td>16.626439</td>\n",
       "    </tr>\n",
       "    <tr>\n",
       "      <th>50%</th>\n",
       "      <td>35.836244</td>\n",
       "      <td>17.951122</td>\n",
       "    </tr>\n",
       "    <tr>\n",
       "      <th>75%</th>\n",
       "      <td>61.161020</td>\n",
       "      <td>19.347963</td>\n",
       "    </tr>\n",
       "    <tr>\n",
       "      <th>max</th>\n",
       "      <td>71.981490</td>\n",
       "      <td>26.394449</td>\n",
       "    </tr>\n",
       "  </tbody>\n",
       "</table>\n",
       "</div>"
      ],
      "text/plain": [
       "       Initial_days   VitD_levels\n",
       "count  10000.000000  10000.000000\n",
       "mean      34.455299     17.964262\n",
       "std       26.309341      2.017231\n",
       "min        1.001981      9.806483\n",
       "25%        7.896215     16.626439\n",
       "50%       35.836244     17.951122\n",
       "75%       61.161020     19.347963\n",
       "max       71.981490     26.394449"
      ]
     },
     "execution_count": 2,
     "metadata": {},
     "output_type": "execute_result"
    }
   ],
   "source": [
    "# Sub-select for pre-determined features\n",
    "df1 = df.loc[:, ['Initial_days',\n",
    "                 'VitD_levels',\n",
    "                 'ReAdmis']]\n",
    "\n",
    "# Summary statistics of the two predictor features\n",
    "df1.describe()"
   ]
  },
  {
   "cell_type": "code",
   "execution_count": 3,
   "id": "4cd90d5f",
   "metadata": {},
   "outputs": [
    {
     "data": {
      "text/plain": [
       "<AxesSubplot:>"
      ]
     },
     "execution_count": 3,
     "metadata": {},
     "output_type": "execute_result"
    },
    {
     "data": {
      "image/png": "[encoded data removed]",
      "text/plain": [
       "<Figure size 432x288 with 2 Axes>"
      ]
     },
     "metadata": {
      "needs_background": "light"
     },
     "output_type": "display_data"
    }
   ],
   "source": [
    "# Show boxplots of Initial_days and VitD_levels features\n",
    "df1boxplts, axes = plt.subplots(nrows=1, ncols=2)\n",
    "df1.boxplot('Initial_days', ax=axes[0])\n",
    "df1.boxplot('VitD_levels', ax=axes[1])"
   ]
  },
  {
   "cell_type": "code",
   "execution_count": 4,
   "id": "a2c15a04",
   "metadata": {},
   "outputs": [
    {
     "data": {
      "application/vnd.plotly.v1+json": {
       "config": {
        "plotlyServerURL": "https://plot.ly"
       },
       "data": [
        {
         "hovertemplate": "ReAdmis=No<br>Initial_days=%{x}<br>VitD_levels=%{y}<extra></extra>",
         "legendgroup": "No",
         "marker": {
          "color": "rgb(76,114,176)",
          "symbol": "circle"
         },
         "mode": "markers",
         "name": "No",
         "orientation": "v",
         "showlegend": true,
         "type": "scatter",
         "x": [
          48.63425,
          12.06290075,
          3.7666188,
          12.61204649,
          16.73816137,
          50.38652,
          6.021194376,
          15.58035878,
          12.53924953,
          53.13572,
          51.40848,
          2.062624644,
          26.16864972,
          52.94076,
          17.06618441,
          1.845216711,
          23.99429434,
          25.9221345,
          42.82076,
          12.4342299,
          13.80454422,
          27.1012554,
          2.697821625,
          59.34609,
          19.90457555,
          55.49526,
          14.33049473,
          19.26897558,
          49.88115,
          12.66287634,
          1.196816521,
          10.45260976,
          9.322154561,
          2.547913747,
          3.524402673,
          13.66588135,
          8.146385074,
          5.677516171,
          44.61669,
          7.516510405,
          3.977019262,
          2.96928678,
          15.84349941,
          2.821483191,
          21.82648957,
          4.57965369,
          38.10418,
          10.06754539,
          54.05626,
          7.539661673,
          4.206712799,
          1.578026279,
          2.902048586,
          5.800801193,
          5.13657309,
          52.38996,
          15.92373747,
          6.379717876,
          4.548457585,
          41.39756,
          6.540196109,
          10.48177184,
          15.2473102,
          55.98683,
          53.2366,
          50.57108,
          7.914128404,
          9.914573118,
          6.505431726,
          7.166826868,
          22.08669288,
          54.61526,
          9.340976083,
          6.598383347,
          9.206349723,
          12.6965879,
          1.205454962,
          10.5709448,
          9.015071634,
          6.280303011,
          9.825074619,
          20.25806081,
          18.66335535,
          7.7460829,
          6.671310203,
          14.7452182,
          9.226505724,
          2.082855848,
          10.23746622,
          49.5928,
          2.368127777,
          53.72257,
          1.233975142,
          4.374382475,
          6.124179412,
          51.56549,
          10.13846262,
          2.500469908,
          15.83599028,
          49.50909,
          10.51963156,
          50.55724,
          5.507798539,
          44.89774,
          13.36658461,
          10.2466829,
          19.10574579,
          15.1745097,
          3.663737048,
          1.641752088,
          51.37681,
          5.104905303,
          1.294774821,
          15.11084259,
          20.40945802,
          15.31923536,
          8.713563252,
          15.81087197,
          14.49058124,
          8.167988215,
          8.87670268,
          20.27858719,
          6.618399433,
          15.36960456,
          21.13830077,
          13.82990161,
          7.849034246,
          4.714177132,
          6.759919237,
          11.44676752
         ],
         "xaxis": "x",
         "y": [
          18.14557,
          18.88188232,
          21.95046124,
          17.90697436,
          20.1066428,
          15.14472,
          16.60310869,
          20.3614612,
          17.73575982,
          20.01347,
          19.71605,
          14.86605826,
          17.15579574,
          18.61949,
          17.99297889,
          15.53972504,
          15.81045333,
          23.25092452,
          20.05476,
          16.66991002,
          19.85743243,
          19.47720668,
          14.51897962,
          18.15546,
          15.09840442,
          18.49555,
          18.87954226,
          19.5124118,
          21.4922,
          20.35564061,
          16.5528875,
          17.63679814,
          17.52785446,
          15.44728095,
          16.17743111,
          16.4480706,
          18.612222,
          19.70707024,
          20.10657,
          19.67503612,
          19.82929227,
          19.16937929,
          20.65702346,
          19.89680301,
          17.88950526,
          10.87742702,
          19.7306,
          16.23721761,
          15.52158,
          16.87593574,
          17.22591326,
          18.78813882,
          13.85832227,
          15.60360894,
          17.79916755,
          23.73916,
          20.45793148,
          19.51619737,
          16.71365785,
          17.13866,
          19.95368059,
          17.2434419,
          16.78325042,
          15.8869,
          15.37038,
          16.5208,
          20.13166815,
          15.07736865,
          17.7115141,
          18.07383243,
          19.5294224,
          19.41334,
          20.4594047,
          15.18984874,
          17.3688629,
          14.86469252,
          16.45957384,
          18.02004437,
          17.73347924,
          22.15107609,
          19.40864874,
          17.37780795,
          14.32326528,
          14.07962851,
          16.69963465,
          19.16725559,
          13.41662727,
          19.82024244,
          18.80366695,
          15.77157,
          17.85625095,
          17.02048,
          18.09671923,
          18.24330674,
          17.65577462,
          15.67592,
          17.57364311,
          19.33101507,
          15.86626479,
          16.16232,
          18.91709379,
          15.03254,
          19.42620682,
          14.88211,
          16.30189515,
          16.2322864,
          16.45225392,
          19.21706076,
          19.30784273,
          19.02931241,
          18.99996,
          16.90048102,
          17.92525085,
          18.30751428,
          19.75303169,
          19.54086686,
          16.45691101,
          21.82793971,
          15.95639779,
          17.34718279,
          17.38685558,
          22.47834702,
          19.60806235,
          17.40671761,
          16.38586931,
          18.344426,
          16.94083636,
          16.81849888,
          16.97275746,
          14.66253283
         ],
         "yaxis": "y"
        },
        {
         "hovertemplate": "ReAdmis=Yes<br>Initial_days=%{x}<br>VitD_levels=%{y}<extra></extra>",
         "legendgroup": "Yes",
         "marker": {
          "color": "rgb(221,132,82)",
          "symbol": "circle"
         },
         "mode": "markers",
         "name": "Yes",
         "orientation": "v",
         "showlegend": true,
         "type": "scatter",
         "x": [
          56.15441,
          60.58255,
          57.97696,
          67.53423,
          57.25083,
          59.84736,
          54.64353,
          70.91112,
          63.38024,
          67.25345,
          56.21411,
          69.35313,
          60.19641,
          65.13121,
          55.49842,
          63.47542,
          54.83367,
          69.43675,
          56.91219,
          68.25181,
          58.60374,
          69.95805,
          52.78082,
          68.83851,
          71.06275,
          71.4366,
          57.32738,
          65.34543,
          71.22911,
          67.07773,
          59.45783,
          62.83514,
          63.47891,
          67.67064,
          56.59908,
          66.80667,
          64.44075,
          65.97062,
          58.63923,
          59.77359,
          66.65833,
          58.5754,
          67.1085,
          69.61922,
          67.64934,
          58.13937,
          71.29545,
          64.2376,
          57.34562,
          70.45585,
          57.71247,
          69.62299,
          58.88926,
          70.45591,
          59.54734,
          63.48434,
          69.56736,
          58.77131,
          57.39696,
          71.47105,
          63.80589,
          68.00293,
          63.95912,
          70.29797,
          70.74869,
          56.54531,
          58.90598,
          68.93448,
          63.27266,
          61.2798
         ],
         "xaxis": "x",
         "y": [
          19.01607,
          17.35477,
          19.16232,
          15.75302,
          17.28559,
          18.20234,
          17.44234,
          18.60785,
          16.30305,
          17.37329,
          17.97389,
          16.11538,
          19.19183,
          19.32234,
          14.52552,
          16.6024,
          16.81666,
          18.80331,
          19.18554,
          18.08912,
          18.88358,
          16.55296,
          15.94883,
          17.2403,
          21.06245,
          17.67598,
          19.07781,
          18.78958,
          19.32957,
          18.62638,
          19.07173,
          17.47059,
          18.22993,
          19.91832,
          20.00878,
          18.40664,
          18.26847,
          12.70528,
          18.73081,
          16.03889,
          20.09595,
          17.64055,
          17.61592,
          15.04052,
          17.90699,
          16.2956,
          20.57526,
          18.59551,
          16.06619,
          16.69081,
          15.20672,
          18.63495,
          18.97617,
          18.76757,
          17.514,
          17.44187,
          18.28083,
          20.21325,
          19.15527,
          14.52062,
          17.95461,
          21.24713,
          18.89134,
          21.10839,
          16.79544,
          20.76252,
          17.49134,
          17.06625,
          19.25286,
          19.12416
         ],
         "yaxis": "y"
        }
       ],
       "layout": {
        "height": 500,
        "legend": {
         "title": {
          "text": "ReAdmis"
         },
         "tracegroupgap": 0
        },
        "margin": {
         "t": 60
        },
        "template": {
         "data": {
          "bar": [
           {
            "error_x": {
             "color": "rgb(36,36,36)"
            },
            "error_y": {
             "color": "rgb(36,36,36)"
            },
            "marker": {
             "line": {
              "color": "rgb(234,234,242)",
              "width": 0.5
             },
             "pattern": {
              "fillmode": "overlay",
              "size": 10,
              "solidity": 0.2
             }
            },
            "type": "bar"
           }
          ],
          "barpolar": [
           {
            "marker": {
             "line": {
              "color": "rgb(234,234,242)",
              "width": 0.5
             },
             "pattern": {
              "fillmode": "overlay",
              "size": 10,
              "solidity": 0.2
             }
            },
            "type": "barpolar"
           }
          ],
          "carpet": [
           {
            "aaxis": {
             "endlinecolor": "rgb(36,36,36)",
             "gridcolor": "white",
             "linecolor": "white",
             "minorgridcolor": "white",
             "startlinecolor": "rgb(36,36,36)"
            },
            "baxis": {
             "endlinecolor": "rgb(36,36,36)",
             "gridcolor": "white",
             "linecolor": "white",
             "minorgridcolor": "white",
             "startlinecolor": "rgb(36,36,36)"
            },
            "type": "carpet"
           }
          ],
          "choropleth": [
           {
            "colorbar": {
             "outlinewidth": 0,
             "tickcolor": "rgb(36,36,36)",
             "ticklen": 8,
             "ticks": "outside",
             "tickwidth": 2
            },
            "type": "choropleth"
           }
          ],
          "contour": [
           {
            "colorbar": {
             "outlinewidth": 0,
             "tickcolor": "rgb(36,36,36)",
             "ticklen": 8,
             "ticks": "outside",
             "tickwidth": 2
            },
            "colorscale": [
             [
              0,
              "rgb(2,4,25)"
             ],
             [
              0.06274509803921569,
              "rgb(24,15,41)"
             ],
             [
              0.12549019607843137,
              "rgb(47,23,57)"
             ],
             [
              0.18823529411764706,
              "rgb(71,28,72)"
             ],
             [
              0.25098039215686274,
              "rgb(97,30,82)"
             ],
             [
              0.3137254901960784,
              "rgb(123,30,89)"
             ],
             [
              0.3764705882352941,
              "rgb(150,27,91)"
             ],
             [
              0.4392156862745098,
              "rgb(177,22,88)"
             ],
             [
              0.5019607843137255,
              "rgb(203,26,79)"
             ],
             [
              0.5647058823529412,
              "rgb(223,47,67)"
             ],
             [
              0.6274509803921569,
              "rgb(236,76,61)"
             ],
             [
              0.6901960784313725,
              "rgb(242,107,73)"
             ],
             [
              0.7529411764705882,
              "rgb(244,135,95)"
             ],
             [
              0.8156862745098039,
              "rgb(245,162,122)"
             ],
             [
              0.8784313725490196,
              "rgb(246,188,153)"
             ],
             [
              0.9411764705882353,
              "rgb(247,212,187)"
             ],
             [
              1,
              "rgb(250,234,220)"
             ]
            ],
            "type": "contour"
           }
          ],
          "contourcarpet": [
           {
            "colorbar": {
             "outlinewidth": 0,
             "tickcolor": "rgb(36,36,36)",
             "ticklen": 8,
             "ticks": "outside",
             "tickwidth": 2
            },
            "type": "contourcarpet"
           }
          ],
          "heatmap": [
           {
            "colorbar": {
             "outlinewidth": 0,
             "tickcolor": "rgb(36,36,36)",
             "ticklen": 8,
             "ticks": "outside",
             "tickwidth": 2
            },
            "colorscale": [
             [
              0,
              "rgb(2,4,25)"
             ],
             [
              0.06274509803921569,
              "rgb(24,15,41)"
             ],
             [
              0.12549019607843137,
              "rgb(47,23,57)"
             ],
             [
              0.18823529411764706,
              "rgb(71,28,72)"
             ],
             [
              0.25098039215686274,
              "rgb(97,30,82)"
             ],
             [
              0.3137254901960784,
              "rgb(123,30,89)"
             ],
             [
              0.3764705882352941,
              "rgb(150,27,91)"
             ],
             [
              0.4392156862745098,
              "rgb(177,22,88)"
             ],
             [
              0.5019607843137255,
              "rgb(203,26,79)"
             ],
             [
              0.5647058823529412,
              "rgb(223,47,67)"
             ],
             [
              0.6274509803921569,
              "rgb(236,76,61)"
             ],
             [
              0.6901960784313725,
              "rgb(242,107,73)"
             ],
             [
              0.7529411764705882,
              "rgb(244,135,95)"
             ],
             [
              0.8156862745098039,
              "rgb(245,162,122)"
             ],
             [
              0.8784313725490196,
              "rgb(246,188,153)"
             ],
             [
              0.9411764705882353,
              "rgb(247,212,187)"
             ],
             [
              1,
              "rgb(250,234,220)"
             ]
            ],
            "type": "heatmap"
           }
          ],
          "heatmapgl": [
           {
            "colorbar": {
             "outlinewidth": 0,
             "tickcolor": "rgb(36,36,36)",
             "ticklen": 8,
             "ticks": "outside",
             "tickwidth": 2
            },
            "colorscale": [
             [
              0,
              "rgb(2,4,25)"
             ],
             [
              0.06274509803921569,
              "rgb(24,15,41)"
             ],
             [
              0.12549019607843137,
              "rgb(47,23,57)"
             ],
             [
              0.18823529411764706,
              "rgb(71,28,72)"
             ],
             [
              0.25098039215686274,
              "rgb(97,30,82)"
             ],
             [
              0.3137254901960784,
              "rgb(123,30,89)"
             ],
             [
              0.3764705882352941,
              "rgb(150,27,91)"
             ],
             [
              0.4392156862745098,
              "rgb(177,22,88)"
             ],
             [
              0.5019607843137255,
              "rgb(203,26,79)"
             ],
             [
              0.5647058823529412,
              "rgb(223,47,67)"
             ],
             [
              0.6274509803921569,
              "rgb(236,76,61)"
             ],
             [
              0.6901960784313725,
              "rgb(242,107,73)"
             ],
             [
              0.7529411764705882,
              "rgb(244,135,95)"
             ],
             [
              0.8156862745098039,
              "rgb(245,162,122)"
             ],
             [
              0.8784313725490196,
              "rgb(246,188,153)"
             ],
             [
              0.9411764705882353,
              "rgb(247,212,187)"
             ],
             [
              1,
              "rgb(250,234,220)"
             ]
            ],
            "type": "heatmapgl"
           }
          ],
          "histogram": [
           {
            "marker": {
             "pattern": {
              "fillmode": "overlay",
              "size": 10,
              "solidity": 0.2
             }
            },
            "type": "histogram"
           }
          ],
          "histogram2d": [
           {
            "colorbar": {
             "outlinewidth": 0,
             "tickcolor": "rgb(36,36,36)",
             "ticklen": 8,
             "ticks": "outside",
             "tickwidth": 2
            },
            "colorscale": [
             [
              0,
              "rgb(2,4,25)"
             ],
             [
              0.06274509803921569,
              "rgb(24,15,41)"
             ],
             [
              0.12549019607843137,
              "rgb(47,23,57)"
             ],
             [
              0.18823529411764706,
              "rgb(71,28,72)"
             ],
             [
              0.25098039215686274,
              "rgb(97,30,82)"
             ],
             [
              0.3137254901960784,
              "rgb(123,30,89)"
             ],
             [
              0.3764705882352941,
              "rgb(150,27,91)"
             ],
             [
              0.4392156862745098,
              "rgb(177,22,88)"
             ],
             [
              0.5019607843137255,
              "rgb(203,26,79)"
             ],
             [
              0.5647058823529412,
              "rgb(223,47,67)"
             ],
             [
              0.6274509803921569,
              "rgb(236,76,61)"
             ],
             [
              0.6901960784313725,
              "rgb(242,107,73)"
             ],
             [
              0.7529411764705882,
              "rgb(244,135,95)"
             ],
             [
              0.8156862745098039,
              "rgb(245,162,122)"
             ],
             [
              0.8784313725490196,
              "rgb(246,188,153)"
             ],
             [
              0.9411764705882353,
              "rgb(247,212,187)"
             ],
             [
              1,
              "rgb(250,234,220)"
             ]
            ],
            "type": "histogram2d"
           }
          ],
          "histogram2dcontour": [
           {
            "colorbar": {
             "outlinewidth": 0,
             "tickcolor": "rgb(36,36,36)",
             "ticklen": 8,
             "ticks": "outside",
             "tickwidth": 2
            },
            "colorscale": [
             [
              0,
              "rgb(2,4,25)"
             ],
             [
              0.06274509803921569,
              "rgb(24,15,41)"
             ],
             [
              0.12549019607843137,
              "rgb(47,23,57)"
             ],
             [
              0.18823529411764706,
              "rgb(71,28,72)"
             ],
             [
              0.25098039215686274,
              "rgb(97,30,82)"
             ],
             [
              0.3137254901960784,
              "rgb(123,30,89)"
             ],
             [
              0.3764705882352941,
              "rgb(150,27,91)"
             ],
             [
              0.4392156862745098,
              "rgb(177,22,88)"
             ],
             [
              0.5019607843137255,
              "rgb(203,26,79)"
             ],
             [
              0.5647058823529412,
              "rgb(223,47,67)"
             ],
             [
              0.6274509803921569,
              "rgb(236,76,61)"
             ],
             [
              0.6901960784313725,
              "rgb(242,107,73)"
             ],
             [
              0.7529411764705882,
              "rgb(244,135,95)"
             ],
             [
              0.8156862745098039,
              "rgb(245,162,122)"
             ],
             [
              0.8784313725490196,
              "rgb(246,188,153)"
             ],
             [
              0.9411764705882353,
              "rgb(247,212,187)"
             ],
             [
              1,
              "rgb(250,234,220)"
             ]
            ],
            "type": "histogram2dcontour"
           }
          ],
          "mesh3d": [
           {
            "colorbar": {
             "outlinewidth": 0,
             "tickcolor": "rgb(36,36,36)",
             "ticklen": 8,
             "ticks": "outside",
             "tickwidth": 2
            },
            "type": "mesh3d"
           }
          ],
          "parcoords": [
           {
            "line": {
             "colorbar": {
              "outlinewidth": 0,
              "tickcolor": "rgb(36,36,36)",
              "ticklen": 8,
              "ticks": "outside",
              "tickwidth": 2
             }
            },
            "type": "parcoords"
           }
          ],
          "pie": [
           {
            "automargin": true,
            "type": "pie"
           }
          ],
          "scatter": [
           {
            "marker": {
             "colorbar": {
              "outlinewidth": 0,
              "tickcolor": "rgb(36,36,36)",
              "ticklen": 8,
              "ticks": "outside",
              "tickwidth": 2
             }
            },
            "type": "scatter"
           }
          ],
          "scatter3d": [
           {
            "line": {
             "colorbar": {
              "outlinewidth": 0,
              "tickcolor": "rgb(36,36,36)",
              "ticklen": 8,
              "ticks": "outside",
              "tickwidth": 2
             }
            },
            "marker": {
             "colorbar": {
              "outlinewidth": 0,
              "tickcolor": "rgb(36,36,36)",
              "ticklen": 8,
              "ticks": "outside",
              "tickwidth": 2
             }
            },
            "type": "scatter3d"
           }
          ],
          "scattercarpet": [
           {
            "marker": {
             "colorbar": {
              "outlinewidth": 0,
              "tickcolor": "rgb(36,36,36)",
              "ticklen": 8,
              "ticks": "outside",
              "tickwidth": 2
             }
            },
            "type": "scattercarpet"
           }
          ],
          "scattergeo": [
           {
            "marker": {
             "colorbar": {
              "outlinewidth": 0,
              "tickcolor": "rgb(36,36,36)",
              "ticklen": 8,
              "ticks": "outside",
              "tickwidth": 2
             }
            },
            "type": "scattergeo"
           }
          ],
          "scattergl": [
           {
            "marker": {
             "colorbar": {
              "outlinewidth": 0,
              "tickcolor": "rgb(36,36,36)",
              "ticklen": 8,
              "ticks": "outside",
              "tickwidth": 2
             }
            },
            "type": "scattergl"
           }
          ],
          "scattermapbox": [
           {
            "marker": {
             "colorbar": {
              "outlinewidth": 0,
              "tickcolor": "rgb(36,36,36)",
              "ticklen": 8,
              "ticks": "outside",
              "tickwidth": 2
             }
            },
            "type": "scattermapbox"
           }
          ],
          "scatterpolar": [
           {
            "marker": {
             "colorbar": {
              "outlinewidth": 0,
              "tickcolor": "rgb(36,36,36)",
              "ticklen": 8,
              "ticks": "outside",
              "tickwidth": 2
             }
            },
            "type": "scatterpolar"
           }
          ],
          "scatterpolargl": [
           {
            "marker": {
             "colorbar": {
              "outlinewidth": 0,
              "tickcolor": "rgb(36,36,36)",
              "ticklen": 8,
              "ticks": "outside",
              "tickwidth": 2
             }
            },
            "type": "scatterpolargl"
           }
          ],
          "scatterternary": [
           {
            "marker": {
             "colorbar": {
              "outlinewidth": 0,
              "tickcolor": "rgb(36,36,36)",
              "ticklen": 8,
              "ticks": "outside",
              "tickwidth": 2
             }
            },
            "type": "scatterternary"
           }
          ],
          "surface": [
           {
            "colorbar": {
             "outlinewidth": 0,
             "tickcolor": "rgb(36,36,36)",
             "ticklen": 8,
             "ticks": "outside",
             "tickwidth": 2
            },
            "colorscale": [
             [
              0,
              "rgb(2,4,25)"
             ],
             [
              0.06274509803921569,
              "rgb(24,15,41)"
             ],
             [
              0.12549019607843137,
              "rgb(47,23,57)"
             ],
             [
              0.18823529411764706,
              "rgb(71,28,72)"
             ],
             [
              0.25098039215686274,
              "rgb(97,30,82)"
             ],
             [
              0.3137254901960784,
              "rgb(123,30,89)"
             ],
             [
              0.3764705882352941,
              "rgb(150,27,91)"
             ],
             [
              0.4392156862745098,
              "rgb(177,22,88)"
             ],
             [
              0.5019607843137255,
              "rgb(203,26,79)"
             ],
             [
              0.5647058823529412,
              "rgb(223,47,67)"
             ],
             [
              0.6274509803921569,
              "rgb(236,76,61)"
             ],
             [
              0.6901960784313725,
              "rgb(242,107,73)"
             ],
             [
              0.7529411764705882,
              "rgb(244,135,95)"
             ],
             [
              0.8156862745098039,
              "rgb(245,162,122)"
             ],
             [
              0.8784313725490196,
              "rgb(246,188,153)"
             ],
             [
              0.9411764705882353,
              "rgb(247,212,187)"
             ],
             [
              1,
              "rgb(250,234,220)"
             ]
            ],
            "type": "surface"
           }
          ],
          "table": [
           {
            "cells": {
             "fill": {
              "color": "rgb(231,231,240)"
             },
             "line": {
              "color": "white"
             }
            },
            "header": {
             "fill": {
              "color": "rgb(183,183,191)"
             },
             "line": {
              "color": "white"
             }
            },
            "type": "table"
           }
          ]
         },
         "layout": {
          "annotationdefaults": {
           "arrowcolor": "rgb(67,103,167)"
          },
          "autotypenumbers": "strict",
          "coloraxis": {
           "colorbar": {
            "outlinewidth": 0,
            "tickcolor": "rgb(36,36,36)",
            "ticklen": 8,
            "ticks": "outside",
            "tickwidth": 2
           }
          },
          "colorscale": {
           "sequential": [
            [
             0,
             "rgb(2,4,25)"
            ],
            [
             0.06274509803921569,
             "rgb(24,15,41)"
            ],
            [
             0.12549019607843137,
             "rgb(47,23,57)"
            ],
            [
             0.18823529411764706,
             "rgb(71,28,72)"
            ],
            [
             0.25098039215686274,
             "rgb(97,30,82)"
            ],
            [
             0.3137254901960784,
             "rgb(123,30,89)"
            ],
            [
             0.3764705882352941,
             "rgb(150,27,91)"
            ],
            [
             0.4392156862745098,
             "rgb(177,22,88)"
            ],
            [
             0.5019607843137255,
             "rgb(203,26,79)"
            ],
            [
             0.5647058823529412,
             "rgb(223,47,67)"
            ],
            [
             0.6274509803921569,
             "rgb(236,76,61)"
            ],
            [
             0.6901960784313725,
             "rgb(242,107,73)"
            ],
            [
             0.7529411764705882,
             "rgb(244,135,95)"
            ],
            [
             0.8156862745098039,
             "rgb(245,162,122)"
            ],
            [
             0.8784313725490196,
             "rgb(246,188,153)"
            ],
            [
             0.9411764705882353,
             "rgb(247,212,187)"
            ],
            [
             1,
             "rgb(250,234,220)"
            ]
           ],
           "sequentialminus": [
            [
             0,
             "rgb(2,4,25)"
            ],
            [
             0.06274509803921569,
             "rgb(24,15,41)"
            ],
            [
             0.12549019607843137,
             "rgb(47,23,57)"
            ],
            [
             0.18823529411764706,
             "rgb(71,28,72)"
            ],
            [
             0.25098039215686274,
             "rgb(97,30,82)"
            ],
            [
             0.3137254901960784,
             "rgb(123,30,89)"
            ],
            [
             0.3764705882352941,
             "rgb(150,27,91)"
            ],
            [
             0.4392156862745098,
             "rgb(177,22,88)"
            ],
            [
             0.5019607843137255,
             "rgb(203,26,79)"
            ],
            [
             0.5647058823529412,
             "rgb(223,47,67)"
            ],
            [
             0.6274509803921569,
             "rgb(236,76,61)"
            ],
            [
             0.6901960784313725,
             "rgb(242,107,73)"
            ],
            [
             0.7529411764705882,
             "rgb(244,135,95)"
            ],
            [
             0.8156862745098039,
             "rgb(245,162,122)"
            ],
            [
             0.8784313725490196,
             "rgb(246,188,153)"
            ],
            [
             0.9411764705882353,
             "rgb(247,212,187)"
            ],
            [
             1,
             "rgb(250,234,220)"
            ]
           ]
          },
          "colorway": [
           "rgb(76,114,176)",
           "rgb(221,132,82)",
           "rgb(85,168,104)",
           "rgb(196,78,82)",
           "rgb(129,114,179)",
           "rgb(147,120,96)",
           "rgb(218,139,195)",
           "rgb(140,140,140)",
           "rgb(204,185,116)",
           "rgb(100,181,205)"
          ],
          "font": {
           "color": "rgb(36,36,36)"
          },
          "geo": {
           "bgcolor": "white",
           "lakecolor": "white",
           "landcolor": "rgb(234,234,242)",
           "showlakes": true,
           "showland": true,
           "subunitcolor": "white"
          },
          "hoverlabel": {
           "align": "left"
          },
          "hovermode": "closest",
          "paper_bgcolor": "white",
          "plot_bgcolor": "rgb(234,234,242)",
          "polar": {
           "angularaxis": {
            "gridcolor": "white",
            "linecolor": "white",
            "showgrid": true,
            "ticks": ""
           },
           "bgcolor": "rgb(234,234,242)",
           "radialaxis": {
            "gridcolor": "white",
            "linecolor": "white",
            "showgrid": true,
            "ticks": ""
           }
          },
          "scene": {
           "xaxis": {
            "backgroundcolor": "rgb(234,234,242)",
            "gridcolor": "white",
            "gridwidth": 2,
            "linecolor": "white",
            "showbackground": true,
            "showgrid": true,
            "ticks": "",
            "zerolinecolor": "white"
           },
           "yaxis": {
            "backgroundcolor": "rgb(234,234,242)",
            "gridcolor": "white",
            "gridwidth": 2,
            "linecolor": "white",
            "showbackground": true,
            "showgrid": true,
            "ticks": "",
            "zerolinecolor": "white"
           },
           "zaxis": {
            "backgroundcolor": "rgb(234,234,242)",
            "gridcolor": "white",
            "gridwidth": 2,
            "linecolor": "white",
            "showbackground": true,
            "showgrid": true,
            "ticks": "",
            "zerolinecolor": "white"
           }
          },
          "shapedefaults": {
           "fillcolor": "rgb(67,103,167)",
           "line": {
            "width": 0
           },
           "opacity": 0.5
          },
          "ternary": {
           "aaxis": {
            "gridcolor": "white",
            "linecolor": "white",
            "showgrid": true,
            "ticks": ""
           },
           "baxis": {
            "gridcolor": "white",
            "linecolor": "white",
            "showgrid": true,
            "ticks": ""
           },
           "bgcolor": "rgb(234,234,242)",
           "caxis": {
            "gridcolor": "white",
            "linecolor": "white",
            "showgrid": true,
            "ticks": ""
           }
          },
          "xaxis": {
           "automargin": true,
           "gridcolor": "white",
           "linecolor": "white",
           "showgrid": true,
           "ticks": "",
           "title": {
            "standoff": 15
           },
           "zerolinecolor": "white"
          },
          "yaxis": {
           "automargin": true,
           "gridcolor": "white",
           "linecolor": "white",
           "showgrid": true,
           "ticks": "",
           "title": {
            "standoff": 15
           },
           "zerolinecolor": "white"
          }
         }
        },
        "width": 800,
        "xaxis": {
         "anchor": "y",
         "domain": [
          0,
          1
         ],
         "title": {
          "text": "Initial_days"
         }
        },
        "yaxis": {
         "anchor": "x",
         "domain": [
          0,
          1
         ],
         "title": {
          "text": "VitD_levels"
         }
        }
       }
      }
     },
     "metadata": {},
     "output_type": "display_data"
    }
   ],
   "source": [
    "# Show scatterplot of Initial_days and VitD_levels\n",
    "# with ReAdmis as color to identify categories\n",
    "fig = px.scatter(df.sample(n=200,\n",
    "                           random_state=42),\n",
    "                           x='Initial_days',\n",
    "                           y='VitD_levels',\n",
    "                           color='ReAdmis',\n",
    "                           template='seaborn',\n",
    "                           width=800,\n",
    "                           height=500)\n",
    "fig.show()"
   ]
  },
  {
   "cell_type": "code",
   "execution_count": 5,
   "id": "493f1230",
   "metadata": {},
   "outputs": [
    {
     "data": {
      "application/vnd.plotly.v1+json": {
       "config": {
        "plotlyServerURL": "https://plot.ly"
       },
       "data": [
        {
         "hovertemplate": "num_k=%{x}<br>knnscore=%{y}<extra></extra>",
         "legendgroup": "",
         "line": {
          "color": "#636efa",
          "dash": "solid"
         },
         "marker": {
          "symbol": "circle"
         },
         "mode": "lines",
         "name": "",
         "orientation": "v",
         "showlegend": false,
         "type": "scatter",
         "x": [
          1,
          2,
          3,
          4,
          5,
          6,
          7,
          8,
          9,
          10,
          11,
          12,
          13,
          14,
          15,
          16,
          17,
          18,
          19,
          20
         ],
         "xaxis": "x",
         "y": [
          0.971,
          0.974,
          0.981,
          0.9775,
          0.98,
          0.98,
          0.982,
          0.9805,
          0.9815,
          0.9815,
          0.9825,
          0.982,
          0.984,
          0.9825,
          0.982,
          0.9815,
          0.9815,
          0.981,
          0.9815,
          0.981
         ],
         "yaxis": "y"
        }
       ],
       "layout": {
        "height": 500,
        "legend": {
         "tracegroupgap": 0
        },
        "margin": {
         "t": 60
        },
        "template": {
         "data": {
          "bar": [
           {
            "error_x": {
             "color": "#2a3f5f"
            },
            "error_y": {
             "color": "#2a3f5f"
            },
            "marker": {
             "line": {
              "color": "#E5ECF6",
              "width": 0.5
             },
             "pattern": {
              "fillmode": "overlay",
              "size": 10,
              "solidity": 0.2
             }
            },
            "type": "bar"
           }
          ],
          "barpolar": [
           {
            "marker": {
             "line": {
              "color": "#E5ECF6",
              "width": 0.5
             },
             "pattern": {
              "fillmode": "overlay",
              "size": 10,
              "solidity": 0.2
             }
            },
            "type": "barpolar"
           }
          ],
          "carpet": [
           {
            "aaxis": {
             "endlinecolor": "#2a3f5f",
             "gridcolor": "white",
             "linecolor": "white",
             "minorgridcolor": "white",
             "startlinecolor": "#2a3f5f"
            },
            "baxis": {
             "endlinecolor": "#2a3f5f",
             "gridcolor": "white",
             "linecolor": "white",
             "minorgridcolor": "white",
             "startlinecolor": "#2a3f5f"
            },
            "type": "carpet"
           }
          ],
          "choropleth": [
           {
            "colorbar": {
             "outlinewidth": 0,
             "ticks": ""
            },
            "type": "choropleth"
           }
          ],
          "contour": [
           {
            "colorbar": {
             "outlinewidth": 0,
             "ticks": ""
            },
            "colorscale": [
             [
              0,
              "#0d0887"
             ],
             [
              0.1111111111111111,
              "#46039f"
             ],
             [
              0.2222222222222222,
              "#7201a8"
             ],
             [
              0.3333333333333333,
              "#9c179e"
             ],
             [
              0.4444444444444444,
              "#bd3786"
             ],
             [
              0.5555555555555556,
              "#d8576b"
             ],
             [
              0.6666666666666666,
              "#ed7953"
             ],
             [
              0.7777777777777778,
              "#fb9f3a"
             ],
             [
              0.8888888888888888,
              "#fdca26"
             ],
             [
              1,
              "#f0f921"
             ]
            ],
            "type": "contour"
           }
          ],
          "contourcarpet": [
           {
            "colorbar": {
             "outlinewidth": 0,
             "ticks": ""
            },
            "type": "contourcarpet"
           }
          ],
          "heatmap": [
           {
            "colorbar": {
             "outlinewidth": 0,
             "ticks": ""
            },
            "colorscale": [
             [
              0,
              "#0d0887"
             ],
             [
              0.1111111111111111,
              "#46039f"
             ],
             [
              0.2222222222222222,
              "#7201a8"
             ],
             [
              0.3333333333333333,
              "#9c179e"
             ],
             [
              0.4444444444444444,
              "#bd3786"
             ],
             [
              0.5555555555555556,
              "#d8576b"
             ],
             [
              0.6666666666666666,
              "#ed7953"
             ],
             [
              0.7777777777777778,
              "#fb9f3a"
             ],
             [
              0.8888888888888888,
              "#fdca26"
             ],
             [
              1,
              "#f0f921"
             ]
            ],
            "type": "heatmap"
           }
          ],
          "heatmapgl": [
           {
            "colorbar": {
             "outlinewidth": 0,
             "ticks": ""
            },
            "colorscale": [
             [
              0,
              "#0d0887"
             ],
             [
              0.1111111111111111,
              "#46039f"
             ],
             [
              0.2222222222222222,
              "#7201a8"
             ],
             [
              0.3333333333333333,
              "#9c179e"
             ],
             [
              0.4444444444444444,
              "#bd3786"
             ],
             [
              0.5555555555555556,
              "#d8576b"
             ],
             [
              0.6666666666666666,
              "#ed7953"
             ],
             [
              0.7777777777777778,
              "#fb9f3a"
             ],
             [
              0.8888888888888888,
              "#fdca26"
             ],
             [
              1,
              "#f0f921"
             ]
            ],
            "type": "heatmapgl"
           }
          ],
          "histogram": [
           {
            "marker": {
             "pattern": {
              "fillmode": "overlay",
              "size": 10,
              "solidity": 0.2
             }
            },
            "type": "histogram"
           }
          ],
          "histogram2d": [
           {
            "colorbar": {
             "outlinewidth": 0,
             "ticks": ""
            },
            "colorscale": [
             [
              0,
              "#0d0887"
             ],
             [
              0.1111111111111111,
              "#46039f"
             ],
             [
              0.2222222222222222,
              "#7201a8"
             ],
             [
              0.3333333333333333,
              "#9c179e"
             ],
             [
              0.4444444444444444,
              "#bd3786"
             ],
             [
              0.5555555555555556,
              "#d8576b"
             ],
             [
              0.6666666666666666,
              "#ed7953"
             ],
             [
              0.7777777777777778,
              "#fb9f3a"
             ],
             [
              0.8888888888888888,
              "#fdca26"
             ],
             [
              1,
              "#f0f921"
             ]
            ],
            "type": "histogram2d"
           }
          ],
          "histogram2dcontour": [
           {
            "colorbar": {
             "outlinewidth": 0,
             "ticks": ""
            },
            "colorscale": [
             [
              0,
              "#0d0887"
             ],
             [
              0.1111111111111111,
              "#46039f"
             ],
             [
              0.2222222222222222,
              "#7201a8"
             ],
             [
              0.3333333333333333,
              "#9c179e"
             ],
             [
              0.4444444444444444,
              "#bd3786"
             ],
             [
              0.5555555555555556,
              "#d8576b"
             ],
             [
              0.6666666666666666,
              "#ed7953"
             ],
             [
              0.7777777777777778,
              "#fb9f3a"
             ],
             [
              0.8888888888888888,
              "#fdca26"
             ],
             [
              1,
              "#f0f921"
             ]
            ],
            "type": "histogram2dcontour"
           }
          ],
          "mesh3d": [
           {
            "colorbar": {
             "outlinewidth": 0,
             "ticks": ""
            },
            "type": "mesh3d"
           }
          ],
          "parcoords": [
           {
            "line": {
             "colorbar": {
              "outlinewidth": 0,
              "ticks": ""
             }
            },
            "type": "parcoords"
           }
          ],
          "pie": [
           {
            "automargin": true,
            "type": "pie"
           }
          ],
          "scatter": [
           {
            "marker": {
             "colorbar": {
              "outlinewidth": 0,
              "ticks": ""
             }
            },
            "type": "scatter"
           }
          ],
          "scatter3d": [
           {
            "line": {
             "colorbar": {
              "outlinewidth": 0,
              "ticks": ""
             }
            },
            "marker": {
             "colorbar": {
              "outlinewidth": 0,
              "ticks": ""
             }
            },
            "type": "scatter3d"
           }
          ],
          "scattercarpet": [
           {
            "marker": {
             "colorbar": {
              "outlinewidth": 0,
              "ticks": ""
             }
            },
            "type": "scattercarpet"
           }
          ],
          "scattergeo": [
           {
            "marker": {
             "colorbar": {
              "outlinewidth": 0,
              "ticks": ""
             }
            },
            "type": "scattergeo"
           }
          ],
          "scattergl": [
           {
            "marker": {
             "colorbar": {
              "outlinewidth": 0,
              "ticks": ""
             }
            },
            "type": "scattergl"
           }
          ],
          "scattermapbox": [
           {
            "marker": {
             "colorbar": {
              "outlinewidth": 0,
              "ticks": ""
             }
            },
            "type": "scattermapbox"
           }
          ],
          "scatterpolar": [
           {
            "marker": {
             "colorbar": {
              "outlinewidth": 0,
              "ticks": ""
             }
            },
            "type": "scatterpolar"
           }
          ],
          "scatterpolargl": [
           {
            "marker": {
             "colorbar": {
              "outlinewidth": 0,
              "ticks": ""
             }
            },
            "type": "scatterpolargl"
           }
          ],
          "scatterternary": [
           {
            "marker": {
             "colorbar": {
              "outlinewidth": 0,
              "ticks": ""
             }
            },
            "type": "scatterternary"
           }
          ],
          "surface": [
           {
            "colorbar": {
             "outlinewidth": 0,
             "ticks": ""
            },
            "colorscale": [
             [
              0,
              "#0d0887"
             ],
             [
              0.1111111111111111,
              "#46039f"
             ],
             [
              0.2222222222222222,
              "#7201a8"
             ],
             [
              0.3333333333333333,
              "#9c179e"
             ],
             [
              0.4444444444444444,
              "#bd3786"
             ],
             [
              0.5555555555555556,
              "#d8576b"
             ],
             [
              0.6666666666666666,
              "#ed7953"
             ],
             [
              0.7777777777777778,
              "#fb9f3a"
             ],
             [
              0.8888888888888888,
              "#fdca26"
             ],
             [
              1,
              "#f0f921"
             ]
            ],
            "type": "surface"
           }
          ],
          "table": [
           {
            "cells": {
             "fill": {
              "color": "#EBF0F8"
             },
             "line": {
              "color": "white"
             }
            },
            "header": {
             "fill": {
              "color": "#C8D4E3"
             },
             "line": {
              "color": "white"
             }
            },
            "type": "table"
           }
          ]
         },
         "layout": {
          "annotationdefaults": {
           "arrowcolor": "#2a3f5f",
           "arrowhead": 0,
           "arrowwidth": 1
          },
          "autotypenumbers": "strict",
          "coloraxis": {
           "colorbar": {
            "outlinewidth": 0,
            "ticks": ""
           }
          },
          "colorscale": {
           "diverging": [
            [
             0,
             "#8e0152"
            ],
            [
             0.1,
             "#c51b7d"
            ],
            [
             0.2,
             "#de77ae"
            ],
            [
             0.3,
             "#f1b6da"
            ],
            [
             0.4,
             "#fde0ef"
            ],
            [
             0.5,
             "#f7f7f7"
            ],
            [
             0.6,
             "#e6f5d0"
            ],
            [
             0.7,
             "#b8e186"
            ],
            [
             0.8,
             "#7fbc41"
            ],
            [
             0.9,
             "#4d9221"
            ],
            [
             1,
             "#276419"
            ]
           ],
           "sequential": [
            [
             0,
             "#0d0887"
            ],
            [
             0.1111111111111111,
             "#46039f"
            ],
            [
             0.2222222222222222,
             "#7201a8"
            ],
            [
             0.3333333333333333,
             "#9c179e"
            ],
            [
             0.4444444444444444,
             "#bd3786"
            ],
            [
             0.5555555555555556,
             "#d8576b"
            ],
            [
             0.6666666666666666,
             "#ed7953"
            ],
            [
             0.7777777777777778,
             "#fb9f3a"
            ],
            [
             0.8888888888888888,
             "#fdca26"
            ],
            [
             1,
             "#f0f921"
            ]
           ],
           "sequentialminus": [
            [
             0,
             "#0d0887"
            ],
            [
             0.1111111111111111,
             "#46039f"
            ],
            [
             0.2222222222222222,
             "#7201a8"
            ],
            [
             0.3333333333333333,
             "#9c179e"
            ],
            [
             0.4444444444444444,
             "#bd3786"
            ],
            [
             0.5555555555555556,
             "#d8576b"
            ],
            [
             0.6666666666666666,
             "#ed7953"
            ],
            [
             0.7777777777777778,
             "#fb9f3a"
            ],
            [
             0.8888888888888888,
             "#fdca26"
            ],
            [
             1,
             "#f0f921"
            ]
           ]
          },
          "colorway": [
           "#636efa",
           "#EF553B",
           "#00cc96",
           "#ab63fa",
           "#FFA15A",
           "#19d3f3",
           "#FF6692",
           "#B6E880",
           "#FF97FF",
           "#FECB52"
          ],
          "font": {
           "color": "#2a3f5f"
          },
          "geo": {
           "bgcolor": "white",
           "lakecolor": "white",
           "landcolor": "#E5ECF6",
           "showlakes": true,
           "showland": true,
           "subunitcolor": "white"
          },
          "hoverlabel": {
           "align": "left"
          },
          "hovermode": "closest",
          "mapbox": {
           "style": "light"
          },
          "paper_bgcolor": "white",
          "plot_bgcolor": "#E5ECF6",
          "polar": {
           "angularaxis": {
            "gridcolor": "white",
            "linecolor": "white",
            "ticks": ""
           },
           "bgcolor": "#E5ECF6",
           "radialaxis": {
            "gridcolor": "white",
            "linecolor": "white",
            "ticks": ""
           }
          },
          "scene": {
           "xaxis": {
            "backgroundcolor": "#E5ECF6",
            "gridcolor": "white",
            "gridwidth": 2,
            "linecolor": "white",
            "showbackground": true,
            "ticks": "",
            "zerolinecolor": "white"
           },
           "yaxis": {
            "backgroundcolor": "#E5ECF6",
            "gridcolor": "white",
            "gridwidth": 2,
            "linecolor": "white",
            "showbackground": true,
            "ticks": "",
            "zerolinecolor": "white"
           },
           "zaxis": {
            "backgroundcolor": "#E5ECF6",
            "gridcolor": "white",
            "gridwidth": 2,
            "linecolor": "white",
            "showbackground": true,
            "ticks": "",
            "zerolinecolor": "white"
           }
          },
          "shapedefaults": {
           "line": {
            "color": "#2a3f5f"
           }
          },
          "ternary": {
           "aaxis": {
            "gridcolor": "white",
            "linecolor": "white",
            "ticks": ""
           },
           "baxis": {
            "gridcolor": "white",
            "linecolor": "white",
            "ticks": ""
           },
           "bgcolor": "#E5ECF6",
           "caxis": {
            "gridcolor": "white",
            "linecolor": "white",
            "ticks": ""
           }
          },
          "title": {
           "x": 0.05
          },
          "xaxis": {
           "automargin": true,
           "gridcolor": "white",
           "linecolor": "white",
           "ticks": "",
           "title": {
            "standoff": 15
           },
           "zerolinecolor": "white",
           "zerolinewidth": 2
          },
          "yaxis": {
           "automargin": true,
           "gridcolor": "white",
           "linecolor": "white",
           "ticks": "",
           "title": {
            "standoff": 15
           },
           "zerolinecolor": "white",
           "zerolinewidth": 2
          }
         }
        },
        "width": 700,
        "xaxis": {
         "anchor": "y",
         "domain": [
          0,
          1
         ],
         "title": {
          "text": "num_k"
         }
        },
        "yaxis": {
         "anchor": "x",
         "domain": [
          0,
          1
         ],
         "title": {
          "text": "knnscore"
         }
        }
       }
      }
     },
     "metadata": {},
     "output_type": "display_data"
    }
   ],
   "source": [
    "# Set ReAdmis to category type for easier\n",
    "# handling with model and later visualization\n",
    "df1.ReAdmis = df1.ReAdmis.astype('category')\n",
    "\n",
    "# Declare X as df1 Initial_days and VitD_levels\n",
    "# without target feature ReAdmis\n",
    "X = df1.drop(['ReAdmis'],\n",
    "             axis=1)\n",
    "\n",
    "# Declare y as df1 Readmis target feature \n",
    "y = df1.ReAdmis\n",
    "\n",
    "# Split data using 80/20 split and seed 42\n",
    "X_train, X_test, y_train, y_test = train_test_split(X, y, test_size=.2, random_state=42)\n",
    "\n",
    "# Set kNN k=7 and fit to training data\n",
    "knn = KNeighborsClassifier(7)\n",
    "knn.fit(X_train,\n",
    "        y_train)\n",
    "\n",
    "# Test kNN on test data\n",
    "knn.score(X_test,\n",
    "          y_test)\n",
    "\n",
    "# Set kNN k=7 and fit to training data\n",
    "knn = KNeighborsClassifier(7)\n",
    "knn.fit(X_train,\n",
    "        y_train)\n",
    "\n",
    "# Test kNN on test data\n",
    "knn.score(X_test,\n",
    "          y_test)\n",
    "\n",
    "# Loop through attempts to fit kNN using k\n",
    "# value of 1 through 20 to identify optimal k\n",
    "num_k = []\n",
    "knnscore = []\n",
    "for i in range(1,21):\n",
    "    num_k.append(i)\n",
    "    knn = KNeighborsClassifier(n_neighbors=i)\n",
    "    knn.fit(X_train,y_train)\n",
    "    knnscore.append(knn.score(X_test,\n",
    "                              y_test))\n",
    "\n",
    "# Create df of each k value and corresponding score\n",
    "pltscore = pd.DataFrame({'num_k': num_k,\n",
    "                         'knnscore': knnscore})\n",
    "\n",
    "# Plot score by k value\n",
    "fig = px.line(pltscore,\n",
    "              x='num_k',\n",
    "              y='knnscore',\n",
    "              width=700,\n",
    "              height=500)\n",
    "fig.show()"
   ]
  },
  {
   "cell_type": "markdown",
   "id": "5cc5f2e6",
   "metadata": {},
   "source": [
    "### D3: Code Execution"
   ]
  },
  {
   "cell_type": "markdown",
   "id": "a87e3ce0",
   "metadata": {},
   "source": [
    "#### Step 1 - Load in libraries and dataset"
   ]
  },
  {
   "cell_type": "code",
   "execution_count": 6,
   "id": "1a70de64",
   "metadata": {},
   "outputs": [
    {
     "name": "stdout",
     "output_type": "stream",
     "text": [
      "<class 'pandas.core.frame.DataFrame'>\n",
      "RangeIndex: 10000 entries, 0 to 9999\n",
      "Data columns (total 50 columns):\n",
      " #   Column              Non-Null Count  Dtype  \n",
      "---  ------              --------------  -----  \n",
      " 0   CaseOrder           10000 non-null  int64  \n",
      " 1   Customer_id         10000 non-null  object \n",
      " 2   Interaction         10000 non-null  object \n",
      " 3   UID                 10000 non-null  object \n",
      " 4   City                10000 non-null  object \n",
      " 5   State               10000 non-null  object \n",
      " 6   County              10000 non-null  object \n",
      " 7   Zip                 10000 non-null  int64  \n",
      " 8   Lat                 10000 non-null  float64\n",
      " 9   Lng                 10000 non-null  float64\n",
      " 10  Population          10000 non-null  int64  \n",
      " 11  Area                10000 non-null  object \n",
      " 12  TimeZone            10000 non-null  object \n",
      " 13  Job                 10000 non-null  object \n",
      " 14  Children            10000 non-null  int64  \n",
      " 15  Age                 10000 non-null  int64  \n",
      " 16  Income              10000 non-null  float64\n",
      " 17  Marital             10000 non-null  object \n",
      " 18  Gender              10000 non-null  object \n",
      " 19  ReAdmis             10000 non-null  object \n",
      " 20  VitD_levels         10000 non-null  float64\n",
      " 21  Doc_visits          10000 non-null  int64  \n",
      " 22  Full_meals_eaten    10000 non-null  int64  \n",
      " 23  vitD_supp           10000 non-null  int64  \n",
      " 24  Soft_drink          10000 non-null  object \n",
      " 25  Initial_admin       10000 non-null  object \n",
      " 26  HighBlood           10000 non-null  object \n",
      " 27  Stroke              10000 non-null  object \n",
      " 28  Complication_risk   10000 non-null  object \n",
      " 29  Overweight          10000 non-null  object \n",
      " 30  Arthritis           10000 non-null  object \n",
      " 31  Diabetes            10000 non-null  object \n",
      " 32  Hyperlipidemia      10000 non-null  object \n",
      " 33  BackPain            10000 non-null  object \n",
      " 34  Anxiety             10000 non-null  object \n",
      " 35  Allergic_rhinitis   10000 non-null  object \n",
      " 36  Reflux_esophagitis  10000 non-null  object \n",
      " 37  Asthma              10000 non-null  object \n",
      " 38  Services            10000 non-null  object \n",
      " 39  Initial_days        10000 non-null  float64\n",
      " 40  TotalCharge         10000 non-null  float64\n",
      " 41  Additional_charges  10000 non-null  float64\n",
      " 42  Item1               10000 non-null  int64  \n",
      " 43  Item2               10000 non-null  int64  \n",
      " 44  Item3               10000 non-null  int64  \n",
      " 45  Item4               10000 non-null  int64  \n",
      " 46  Item5               10000 non-null  int64  \n",
      " 47  Item6               10000 non-null  int64  \n",
      " 48  Item7               10000 non-null  int64  \n",
      " 49  Item8               10000 non-null  int64  \n",
      "dtypes: float64(7), int64(16), object(27)\n",
      "memory usage: 3.8+ MB\n"
     ]
    }
   ],
   "source": [
    "# Load in libraries needed\n",
    "import pandas as pd\n",
    "from sklearn.neighbors import KNeighborsClassifier\n",
    "from sklearn.model_selection import train_test_split\n",
    "from sklearn.metrics import confusion_matrix, roc_curve, auc\n",
    "import plotly.express as px\n",
    "import matplotlib.pyplot as plt\n",
    "\n",
    "# Read medical dataset into dataframe as df\n",
    "df = pd.read_csv('./data/medical_clean.csv')\n",
    "\n",
    "# Show summary of dataframe including dtypes and counts\n",
    "df.info()"
   ]
  },
  {
   "cell_type": "markdown",
   "id": "a87e3ce0",
   "metadata": {},
   "source": [
    "#### Step 2 - Subset data & initial EDA"
   ]
  },
  {
   "cell_type": "code",
   "execution_count": 7,
   "id": "9e9b1218",
   "metadata": {},
   "outputs": [
    {
     "data": {
      "text/html": [
       "<div>\n",
       "<style scoped>\n",
       "    .dataframe tbody tr th:only-of-type {\n",
       "        vertical-align: middle;\n",
       "    }\n",
       "\n",
       "    .dataframe tbody tr th {\n",
       "        vertical-align: top;\n",
       "    }\n",
       "\n",
       "    .dataframe thead th {\n",
       "        text-align: right;\n",
       "    }\n",
       "</style>\n",
       "<table border=\"1\" class=\"dataframe\">\n",
       "  <thead>\n",
       "    <tr style=\"text-align: right;\">\n",
       "      <th></th>\n",
       "      <th>Initial_days</th>\n",
       "      <th>VitD_levels</th>\n",
       "    </tr>\n",
       "  </thead>\n",
       "  <tbody>\n",
       "    <tr>\n",
       "      <th>count</th>\n",
       "      <td>10000.000000</td>\n",
       "      <td>10000.000000</td>\n",
       "    </tr>\n",
       "    <tr>\n",
       "      <th>mean</th>\n",
       "      <td>34.455299</td>\n",
       "      <td>17.964262</td>\n",
       "    </tr>\n",
       "    <tr>\n",
       "      <th>std</th>\n",
       "      <td>26.309341</td>\n",
       "      <td>2.017231</td>\n",
       "    </tr>\n",
       "    <tr>\n",
       "      <th>min</th>\n",
       "      <td>1.001981</td>\n",
       "      <td>9.806483</td>\n",
       "    </tr>\n",
       "    <tr>\n",
       "      <th>25%</th>\n",
       "      <td>7.896215</td>\n",
       "      <td>16.626439</td>\n",
       "    </tr>\n",
       "    <tr>\n",
       "      <th>50%</th>\n",
       "      <td>35.836244</td>\n",
       "      <td>17.951122</td>\n",
       "    </tr>\n",
       "    <tr>\n",
       "      <th>75%</th>\n",
       "      <td>61.161020</td>\n",
       "      <td>19.347963</td>\n",
       "    </tr>\n",
       "    <tr>\n",
       "      <th>max</th>\n",
       "      <td>71.981490</td>\n",
       "      <td>26.394449</td>\n",
       "    </tr>\n",
       "  </tbody>\n",
       "</table>\n",
       "</div>"
      ],
      "text/plain": [
       "       Initial_days   VitD_levels\n",
       "count  10000.000000  10000.000000\n",
       "mean      34.455299     17.964262\n",
       "std       26.309341      2.017231\n",
       "min        1.001981      9.806483\n",
       "25%        7.896215     16.626439\n",
       "50%       35.836244     17.951122\n",
       "75%       61.161020     19.347963\n",
       "max       71.981490     26.394449"
      ]
     },
     "execution_count": 7,
     "metadata": {},
     "output_type": "execute_result"
    }
   ],
   "source": [
    "# Sub-select for pre-determined features\n",
    "df1 = df.loc[:, ['Initial_days',\n",
    "                 'VitD_levels',\n",
    "                 'ReAdmis']]\n",
    "\n",
    "# Summary statistics of the two predictor features\n",
    "df1.describe()"
   ]
  },
  {
   "cell_type": "code",
   "execution_count": 8,
   "id": "63366213",
   "metadata": {},
   "outputs": [
    {
     "data": {
      "text/plain": [
       "<AxesSubplot:>"
      ]
     },
     "execution_count": 8,
     "metadata": {},
     "output_type": "execute_result"
    },
    {
     "data": {
      "image/png": "[encoded data removed]",
      "text/plain": [
       "<Figure size 432x288 with 2 Axes>"
      ]
     },
     "metadata": {
      "needs_background": "light"
     },
     "output_type": "display_data"
    }
   ],
   "source": [
    "# Show boxplots of Initial_days and VitD_levels features\n",
    "df1boxplts, axes = plt.subplots(nrows=1, ncols=2)\n",
    "df1.boxplot('Initial_days', ax=axes[0])\n",
    "df1.boxplot('VitD_levels', ax=axes[1])"
   ]
  },
  {
   "cell_type": "code",
   "execution_count": 9,
   "id": "9f6da9e7",
   "metadata": {},
   "outputs": [
    {
     "data": {
      "application/vnd.plotly.v1+json": {
       "config": {
        "plotlyServerURL": "https://plot.ly"
       },
       "data": [
        {
         "hovertemplate": "ReAdmis=No<br>Initial_days=%{x}<br>VitD_levels=%{y}<extra></extra>",
         "legendgroup": "No",
         "marker": {
          "color": "rgb(76,114,176)",
          "symbol": "circle"
         },
         "mode": "markers",
         "name": "No",
         "orientation": "v",
         "showlegend": true,
         "type": "scatter",
         "x": [
          48.63425,
          12.06290075,
          3.7666188,
          12.61204649,
          16.73816137,
          50.38652,
          6.021194376,
          15.58035878,
          12.53924953,
          53.13572,
          51.40848,
          2.062624644,
          26.16864972,
          52.94076,
          17.06618441,
          1.845216711,
          23.99429434,
          25.9221345,
          42.82076,
          12.4342299,
          13.80454422,
          27.1012554,
          2.697821625,
          59.34609,
          19.90457555,
          55.49526,
          14.33049473,
          19.26897558,
          49.88115,
          12.66287634,
          1.196816521,
          10.45260976,
          9.322154561,
          2.547913747,
          3.524402673,
          13.66588135,
          8.146385074,
          5.677516171,
          44.61669,
          7.516510405,
          3.977019262,
          2.96928678,
          15.84349941,
          2.821483191,
          21.82648957,
          4.57965369,
          38.10418,
          10.06754539,
          54.05626,
          7.539661673,
          4.206712799,
          1.578026279,
          2.902048586,
          5.800801193,
          5.13657309,
          52.38996,
          15.92373747,
          6.379717876,
          4.548457585,
          41.39756,
          6.540196109,
          10.48177184,
          15.2473102,
          55.98683,
          53.2366,
          50.57108,
          7.914128404,
          9.914573118,
          6.505431726,
          7.166826868,
          22.08669288,
          54.61526,
          9.340976083,
          6.598383347,
          9.206349723,
          12.6965879,
          1.205454962,
          10.5709448,
          9.015071634,
          6.280303011,
          9.825074619,
          20.25806081,
          18.66335535,
          7.7460829,
          6.671310203,
          14.7452182,
          9.226505724,
          2.082855848,
          10.23746622,
          49.5928,
          2.368127777,
          53.72257,
          1.233975142,
          4.374382475,
          6.124179412,
          51.56549,
          10.13846262,
          2.500469908,
          15.83599028,
          49.50909,
          10.51963156,
          50.55724,
          5.507798539,
          44.89774,
          13.36658461,
          10.2466829,
          19.10574579,
          15.1745097,
          3.663737048,
          1.641752088,
          51.37681,
          5.104905303,
          1.294774821,
          15.11084259,
          20.40945802,
          15.31923536,
          8.713563252,
          15.81087197,
          14.49058124,
          8.167988215,
          8.87670268,
          20.27858719,
          6.618399433,
          15.36960456,
          21.13830077,
          13.82990161,
          7.849034246,
          4.714177132,
          6.759919237,
          11.44676752
         ],
         "xaxis": "x",
         "y": [
          18.14557,
          18.88188232,
          21.95046124,
          17.90697436,
          20.1066428,
          15.14472,
          16.60310869,
          20.3614612,
          17.73575982,
          20.01347,
          19.71605,
          14.86605826,
          17.15579574,
          18.61949,
          17.99297889,
          15.53972504,
          15.81045333,
          23.25092452,
          20.05476,
          16.66991002,
          19.85743243,
          19.47720668,
          14.51897962,
          18.15546,
          15.09840442,
          18.49555,
          18.87954226,
          19.5124118,
          21.4922,
          20.35564061,
          16.5528875,
          17.63679814,
          17.52785446,
          15.44728095,
          16.17743111,
          16.4480706,
          18.612222,
          19.70707024,
          20.10657,
          19.67503612,
          19.82929227,
          19.16937929,
          20.65702346,
          19.89680301,
          17.88950526,
          10.87742702,
          19.7306,
          16.23721761,
          15.52158,
          16.87593574,
          17.22591326,
          18.78813882,
          13.85832227,
          15.60360894,
          17.79916755,
          23.73916,
          20.45793148,
          19.51619737,
          16.71365785,
          17.13866,
          19.95368059,
          17.2434419,
          16.78325042,
          15.8869,
          15.37038,
          16.5208,
          20.13166815,
          15.07736865,
          17.7115141,
          18.07383243,
          19.5294224,
          19.41334,
          20.4594047,
          15.18984874,
          17.3688629,
          14.86469252,
          16.45957384,
          18.02004437,
          17.73347924,
          22.15107609,
          19.40864874,
          17.37780795,
          14.32326528,
          14.07962851,
          16.69963465,
          19.16725559,
          13.41662727,
          19.82024244,
          18.80366695,
          15.77157,
          17.85625095,
          17.02048,
          18.09671923,
          18.24330674,
          17.65577462,
          15.67592,
          17.57364311,
          19.33101507,
          15.86626479,
          16.16232,
          18.91709379,
          15.03254,
          19.42620682,
          14.88211,
          16.30189515,
          16.2322864,
          16.45225392,
          19.21706076,
          19.30784273,
          19.02931241,
          18.99996,
          16.90048102,
          17.92525085,
          18.30751428,
          19.75303169,
          19.54086686,
          16.45691101,
          21.82793971,
          15.95639779,
          17.34718279,
          17.38685558,
          22.47834702,
          19.60806235,
          17.40671761,
          16.38586931,
          18.344426,
          16.94083636,
          16.81849888,
          16.97275746,
          14.66253283
         ],
         "yaxis": "y"
        },
        {
         "hovertemplate": "ReAdmis=Yes<br>Initial_days=%{x}<br>VitD_levels=%{y}<extra></extra>",
         "legendgroup": "Yes",
         "marker": {
          "color": "rgb(221,132,82)",
          "symbol": "circle"
         },
         "mode": "markers",
         "name": "Yes",
         "orientation": "v",
         "showlegend": true,
         "type": "scatter",
         "x": [
          56.15441,
          60.58255,
          57.97696,
          67.53423,
          57.25083,
          59.84736,
          54.64353,
          70.91112,
          63.38024,
          67.25345,
          56.21411,
          69.35313,
          60.19641,
          65.13121,
          55.49842,
          63.47542,
          54.83367,
          69.43675,
          56.91219,
          68.25181,
          58.60374,
          69.95805,
          52.78082,
          68.83851,
          71.06275,
          71.4366,
          57.32738,
          65.34543,
          71.22911,
          67.07773,
          59.45783,
          62.83514,
          63.47891,
          67.67064,
          56.59908,
          66.80667,
          64.44075,
          65.97062,
          58.63923,
          59.77359,
          66.65833,
          58.5754,
          67.1085,
          69.61922,
          67.64934,
          58.13937,
          71.29545,
          64.2376,
          57.34562,
          70.45585,
          57.71247,
          69.62299,
          58.88926,
          70.45591,
          59.54734,
          63.48434,
          69.56736,
          58.77131,
          57.39696,
          71.47105,
          63.80589,
          68.00293,
          63.95912,
          70.29797,
          70.74869,
          56.54531,
          58.90598,
          68.93448,
          63.27266,
          61.2798
         ],
         "xaxis": "x",
         "y": [
          19.01607,
          17.35477,
          19.16232,
          15.75302,
          17.28559,
          18.20234,
          17.44234,
          18.60785,
          16.30305,
          17.37329,
          17.97389,
          16.11538,
          19.19183,
          19.32234,
          14.52552,
          16.6024,
          16.81666,
          18.80331,
          19.18554,
          18.08912,
          18.88358,
          16.55296,
          15.94883,
          17.2403,
          21.06245,
          17.67598,
          19.07781,
          18.78958,
          19.32957,
          18.62638,
          19.07173,
          17.47059,
          18.22993,
          19.91832,
          20.00878,
          18.40664,
          18.26847,
          12.70528,
          18.73081,
          16.03889,
          20.09595,
          17.64055,
          17.61592,
          15.04052,
          17.90699,
          16.2956,
          20.57526,
          18.59551,
          16.06619,
          16.69081,
          15.20672,
          18.63495,
          18.97617,
          18.76757,
          17.514,
          17.44187,
          18.28083,
          20.21325,
          19.15527,
          14.52062,
          17.95461,
          21.24713,
          18.89134,
          21.10839,
          16.79544,
          20.76252,
          17.49134,
          17.06625,
          19.25286,
          19.12416
         ],
         "yaxis": "y"
        }
       ],
       "layout": {
        "height": 500,
        "legend": {
         "title": {
          "text": "ReAdmis"
         },
         "tracegroupgap": 0
        },
        "margin": {
         "t": 60
        },
        "template": {
         "data": {
          "bar": [
           {
            "error_x": {
             "color": "rgb(36,36,36)"
            },
            "error_y": {
             "color": "rgb(36,36,36)"
            },
            "marker": {
             "line": {
              "color": "rgb(234,234,242)",
              "width": 0.5
             },
             "pattern": {
              "fillmode": "overlay",
              "size": 10,
              "solidity": 0.2
             }
            },
            "type": "bar"
           }
          ],
          "barpolar": [
           {
            "marker": {
             "line": {
              "color": "rgb(234,234,242)",
              "width": 0.5
             },
             "pattern": {
              "fillmode": "overlay",
              "size": 10,
              "solidity": 0.2
             }
            },
            "type": "barpolar"
           }
          ],
          "carpet": [
           {
            "aaxis": {
             "endlinecolor": "rgb(36,36,36)",
             "gridcolor": "white",
             "linecolor": "white",
             "minorgridcolor": "white",
             "startlinecolor": "rgb(36,36,36)"
            },
            "baxis": {
             "endlinecolor": "rgb(36,36,36)",
             "gridcolor": "white",
             "linecolor": "white",
             "minorgridcolor": "white",
             "startlinecolor": "rgb(36,36,36)"
            },
            "type": "carpet"
           }
          ],
          "choropleth": [
           {
            "colorbar": {
             "outlinewidth": 0,
             "tickcolor": "rgb(36,36,36)",
             "ticklen": 8,
             "ticks": "outside",
             "tickwidth": 2
            },
            "type": "choropleth"
           }
          ],
          "contour": [
           {
            "colorbar": {
             "outlinewidth": 0,
             "tickcolor": "rgb(36,36,36)",
             "ticklen": 8,
             "ticks": "outside",
             "tickwidth": 2
            },
            "colorscale": [
             [
              0,
              "rgb(2,4,25)"
             ],
             [
              0.06274509803921569,
              "rgb(24,15,41)"
             ],
             [
              0.12549019607843137,
              "rgb(47,23,57)"
             ],
             [
              0.18823529411764706,
              "rgb(71,28,72)"
             ],
             [
              0.25098039215686274,
              "rgb(97,30,82)"
             ],
             [
              0.3137254901960784,
              "rgb(123,30,89)"
             ],
             [
              0.3764705882352941,
              "rgb(150,27,91)"
             ],
             [
              0.4392156862745098,
              "rgb(177,22,88)"
             ],
             [
              0.5019607843137255,
              "rgb(203,26,79)"
             ],
             [
              0.5647058823529412,
              "rgb(223,47,67)"
             ],
             [
              0.6274509803921569,
              "rgb(236,76,61)"
             ],
             [
              0.6901960784313725,
              "rgb(242,107,73)"
             ],
             [
              0.7529411764705882,
              "rgb(244,135,95)"
             ],
             [
              0.8156862745098039,
              "rgb(245,162,122)"
             ],
             [
              0.8784313725490196,
              "rgb(246,188,153)"
             ],
             [
              0.9411764705882353,
              "rgb(247,212,187)"
             ],
             [
              1,
              "rgb(250,234,220)"
             ]
            ],
            "type": "contour"
           }
          ],
          "contourcarpet": [
           {
            "colorbar": {
             "outlinewidth": 0,
             "tickcolor": "rgb(36,36,36)",
             "ticklen": 8,
             "ticks": "outside",
             "tickwidth": 2
            },
            "type": "contourcarpet"
           }
          ],
          "heatmap": [
           {
            "colorbar": {
             "outlinewidth": 0,
             "tickcolor": "rgb(36,36,36)",
             "ticklen": 8,
             "ticks": "outside",
             "tickwidth": 2
            },
            "colorscale": [
             [
              0,
              "rgb(2,4,25)"
             ],
             [
              0.06274509803921569,
              "rgb(24,15,41)"
             ],
             [
              0.12549019607843137,
              "rgb(47,23,57)"
             ],
             [
              0.18823529411764706,
              "rgb(71,28,72)"
             ],
             [
              0.25098039215686274,
              "rgb(97,30,82)"
             ],
             [
              0.3137254901960784,
              "rgb(123,30,89)"
             ],
             [
              0.3764705882352941,
              "rgb(150,27,91)"
             ],
             [
              0.4392156862745098,
              "rgb(177,22,88)"
             ],
             [
              0.5019607843137255,
              "rgb(203,26,79)"
             ],
             [
              0.5647058823529412,
              "rgb(223,47,67)"
             ],
             [
              0.6274509803921569,
              "rgb(236,76,61)"
             ],
             [
              0.6901960784313725,
              "rgb(242,107,73)"
             ],
             [
              0.7529411764705882,
              "rgb(244,135,95)"
             ],
             [
              0.8156862745098039,
              "rgb(245,162,122)"
             ],
             [
              0.8784313725490196,
              "rgb(246,188,153)"
             ],
             [
              0.9411764705882353,
              "rgb(247,212,187)"
             ],
             [
              1,
              "rgb(250,234,220)"
             ]
            ],
            "type": "heatmap"
           }
          ],
          "heatmapgl": [
           {
            "colorbar": {
             "outlinewidth": 0,
             "tickcolor": "rgb(36,36,36)",
             "ticklen": 8,
             "ticks": "outside",
             "tickwidth": 2
            },
            "colorscale": [
             [
              0,
              "rgb(2,4,25)"
             ],
             [
              0.06274509803921569,
              "rgb(24,15,41)"
             ],
             [
              0.12549019607843137,
              "rgb(47,23,57)"
             ],
             [
              0.18823529411764706,
              "rgb(71,28,72)"
             ],
             [
              0.25098039215686274,
              "rgb(97,30,82)"
             ],
             [
              0.3137254901960784,
              "rgb(123,30,89)"
             ],
             [
              0.3764705882352941,
              "rgb(150,27,91)"
             ],
             [
              0.4392156862745098,
              "rgb(177,22,88)"
             ],
             [
              0.5019607843137255,
              "rgb(203,26,79)"
             ],
             [
              0.5647058823529412,
              "rgb(223,47,67)"
             ],
             [
              0.6274509803921569,
              "rgb(236,76,61)"
             ],
             [
              0.6901960784313725,
              "rgb(242,107,73)"
             ],
             [
              0.7529411764705882,
              "rgb(244,135,95)"
             ],
             [
              0.8156862745098039,
              "rgb(245,162,122)"
             ],
             [
              0.8784313725490196,
              "rgb(246,188,153)"
             ],
             [
              0.9411764705882353,
              "rgb(247,212,187)"
             ],
             [
              1,
              "rgb(250,234,220)"
             ]
            ],
            "type": "heatmapgl"
           }
          ],
          "histogram": [
           {
            "marker": {
             "pattern": {
              "fillmode": "overlay",
              "size": 10,
              "solidity": 0.2
             }
            },
            "type": "histogram"
           }
          ],
          "histogram2d": [
           {
            "colorbar": {
             "outlinewidth": 0,
             "tickcolor": "rgb(36,36,36)",
             "ticklen": 8,
             "ticks": "outside",
             "tickwidth": 2
            },
            "colorscale": [
             [
              0,
              "rgb(2,4,25)"
             ],
             [
              0.06274509803921569,
              "rgb(24,15,41)"
             ],
             [
              0.12549019607843137,
              "rgb(47,23,57)"
             ],
             [
              0.18823529411764706,
              "rgb(71,28,72)"
             ],
             [
              0.25098039215686274,
              "rgb(97,30,82)"
             ],
             [
              0.3137254901960784,
              "rgb(123,30,89)"
             ],
             [
              0.3764705882352941,
              "rgb(150,27,91)"
             ],
             [
              0.4392156862745098,
              "rgb(177,22,88)"
             ],
             [
              0.5019607843137255,
              "rgb(203,26,79)"
             ],
             [
              0.5647058823529412,
              "rgb(223,47,67)"
             ],
             [
              0.6274509803921569,
              "rgb(236,76,61)"
             ],
             [
              0.6901960784313725,
              "rgb(242,107,73)"
             ],
             [
              0.7529411764705882,
              "rgb(244,135,95)"
             ],
             [
              0.8156862745098039,
              "rgb(245,162,122)"
             ],
             [
              0.8784313725490196,
              "rgb(246,188,153)"
             ],
             [
              0.9411764705882353,
              "rgb(247,212,187)"
             ],
             [
              1,
              "rgb(250,234,220)"
             ]
            ],
            "type": "histogram2d"
           }
          ],
          "histogram2dcontour": [
           {
            "colorbar": {
             "outlinewidth": 0,
             "tickcolor": "rgb(36,36,36)",
             "ticklen": 8,
             "ticks": "outside",
             "tickwidth": 2
            },
            "colorscale": [
             [
              0,
              "rgb(2,4,25)"
             ],
             [
              0.06274509803921569,
              "rgb(24,15,41)"
             ],
             [
              0.12549019607843137,
              "rgb(47,23,57)"
             ],
             [
              0.18823529411764706,
              "rgb(71,28,72)"
             ],
             [
              0.25098039215686274,
              "rgb(97,30,82)"
             ],
             [
              0.3137254901960784,
              "rgb(123,30,89)"
             ],
             [
              0.3764705882352941,
              "rgb(150,27,91)"
             ],
             [
              0.4392156862745098,
              "rgb(177,22,88)"
             ],
             [
              0.5019607843137255,
              "rgb(203,26,79)"
             ],
             [
              0.5647058823529412,
              "rgb(223,47,67)"
             ],
             [
              0.6274509803921569,
              "rgb(236,76,61)"
             ],
             [
              0.6901960784313725,
              "rgb(242,107,73)"
             ],
             [
              0.7529411764705882,
              "rgb(244,135,95)"
             ],
             [
              0.8156862745098039,
              "rgb(245,162,122)"
             ],
             [
              0.8784313725490196,
              "rgb(246,188,153)"
             ],
             [
              0.9411764705882353,
              "rgb(247,212,187)"
             ],
             [
              1,
              "rgb(250,234,220)"
             ]
            ],
            "type": "histogram2dcontour"
           }
          ],
          "mesh3d": [
           {
            "colorbar": {
             "outlinewidth": 0,
             "tickcolor": "rgb(36,36,36)",
             "ticklen": 8,
             "ticks": "outside",
             "tickwidth": 2
            },
            "type": "mesh3d"
           }
          ],
          "parcoords": [
           {
            "line": {
             "colorbar": {
              "outlinewidth": 0,
              "tickcolor": "rgb(36,36,36)",
              "ticklen": 8,
              "ticks": "outside",
              "tickwidth": 2
             }
            },
            "type": "parcoords"
           }
          ],
          "pie": [
           {
            "automargin": true,
            "type": "pie"
           }
          ],
          "scatter": [
           {
            "marker": {
             "colorbar": {
              "outlinewidth": 0,
              "tickcolor": "rgb(36,36,36)",
              "ticklen": 8,
              "ticks": "outside",
              "tickwidth": 2
             }
            },
            "type": "scatter"
           }
          ],
          "scatter3d": [
           {
            "line": {
             "colorbar": {
              "outlinewidth": 0,
              "tickcolor": "rgb(36,36,36)",
              "ticklen": 8,
              "ticks": "outside",
              "tickwidth": 2
             }
            },
            "marker": {
             "colorbar": {
              "outlinewidth": 0,
              "tickcolor": "rgb(36,36,36)",
              "ticklen": 8,
              "ticks": "outside",
              "tickwidth": 2
             }
            },
            "type": "scatter3d"
           }
          ],
          "scattercarpet": [
           {
            "marker": {
             "colorbar": {
              "outlinewidth": 0,
              "tickcolor": "rgb(36,36,36)",
              "ticklen": 8,
              "ticks": "outside",
              "tickwidth": 2
             }
            },
            "type": "scattercarpet"
           }
          ],
          "scattergeo": [
           {
            "marker": {
             "colorbar": {
              "outlinewidth": 0,
              "tickcolor": "rgb(36,36,36)",
              "ticklen": 8,
              "ticks": "outside",
              "tickwidth": 2
             }
            },
            "type": "scattergeo"
           }
          ],
          "scattergl": [
           {
            "marker": {
             "colorbar": {
              "outlinewidth": 0,
              "tickcolor": "rgb(36,36,36)",
              "ticklen": 8,
              "ticks": "outside",
              "tickwidth": 2
             }
            },
            "type": "scattergl"
           }
          ],
          "scattermapbox": [
           {
            "marker": {
             "colorbar": {
              "outlinewidth": 0,
              "tickcolor": "rgb(36,36,36)",
              "ticklen": 8,
              "ticks": "outside",
              "tickwidth": 2
             }
            },
            "type": "scattermapbox"
           }
          ],
          "scatterpolar": [
           {
            "marker": {
             "colorbar": {
              "outlinewidth": 0,
              "tickcolor": "rgb(36,36,36)",
              "ticklen": 8,
              "ticks": "outside",
              "tickwidth": 2
             }
            },
            "type": "scatterpolar"
           }
          ],
          "scatterpolargl": [
           {
            "marker": {
             "colorbar": {
              "outlinewidth": 0,
              "tickcolor": "rgb(36,36,36)",
              "ticklen": 8,
              "ticks": "outside",
              "tickwidth": 2
             }
            },
            "type": "scatterpolargl"
           }
          ],
          "scatterternary": [
           {
            "marker": {
             "colorbar": {
              "outlinewidth": 0,
              "tickcolor": "rgb(36,36,36)",
              "ticklen": 8,
              "ticks": "outside",
              "tickwidth": 2
             }
            },
            "type": "scatterternary"
           }
          ],
          "surface": [
           {
            "colorbar": {
             "outlinewidth": 0,
             "tickcolor": "rgb(36,36,36)",
             "ticklen": 8,
             "ticks": "outside",
             "tickwidth": 2
            },
            "colorscale": [
             [
              0,
              "rgb(2,4,25)"
             ],
             [
              0.06274509803921569,
              "rgb(24,15,41)"
             ],
             [
              0.12549019607843137,
              "rgb(47,23,57)"
             ],
             [
              0.18823529411764706,
              "rgb(71,28,72)"
             ],
             [
              0.25098039215686274,
              "rgb(97,30,82)"
             ],
             [
              0.3137254901960784,
              "rgb(123,30,89)"
             ],
             [
              0.3764705882352941,
              "rgb(150,27,91)"
             ],
             [
              0.4392156862745098,
              "rgb(177,22,88)"
             ],
             [
              0.5019607843137255,
              "rgb(203,26,79)"
             ],
             [
              0.5647058823529412,
              "rgb(223,47,67)"
             ],
             [
              0.6274509803921569,
              "rgb(236,76,61)"
             ],
             [
              0.6901960784313725,
              "rgb(242,107,73)"
             ],
             [
              0.7529411764705882,
              "rgb(244,135,95)"
             ],
             [
              0.8156862745098039,
              "rgb(245,162,122)"
             ],
             [
              0.8784313725490196,
              "rgb(246,188,153)"
             ],
             [
              0.9411764705882353,
              "rgb(247,212,187)"
             ],
             [
              1,
              "rgb(250,234,220)"
             ]
            ],
            "type": "surface"
           }
          ],
          "table": [
           {
            "cells": {
             "fill": {
              "color": "rgb(231,231,240)"
             },
             "line": {
              "color": "white"
             }
            },
            "header": {
             "fill": {
              "color": "rgb(183,183,191)"
             },
             "line": {
              "color": "white"
             }
            },
            "type": "table"
           }
          ]
         },
         "layout": {
          "annotationdefaults": {
           "arrowcolor": "rgb(67,103,167)"
          },
          "autotypenumbers": "strict",
          "coloraxis": {
           "colorbar": {
            "outlinewidth": 0,
            "tickcolor": "rgb(36,36,36)",
            "ticklen": 8,
            "ticks": "outside",
            "tickwidth": 2
           }
          },
          "colorscale": {
           "sequential": [
            [
             0,
             "rgb(2,4,25)"
            ],
            [
             0.06274509803921569,
             "rgb(24,15,41)"
            ],
            [
             0.12549019607843137,
             "rgb(47,23,57)"
            ],
            [
             0.18823529411764706,
             "rgb(71,28,72)"
            ],
            [
             0.25098039215686274,
             "rgb(97,30,82)"
            ],
            [
             0.3137254901960784,
             "rgb(123,30,89)"
            ],
            [
             0.3764705882352941,
             "rgb(150,27,91)"
            ],
            [
             0.4392156862745098,
             "rgb(177,22,88)"
            ],
            [
             0.5019607843137255,
             "rgb(203,26,79)"
            ],
            [
             0.5647058823529412,
             "rgb(223,47,67)"
            ],
            [
             0.6274509803921569,
             "rgb(236,76,61)"
            ],
            [
             0.6901960784313725,
             "rgb(242,107,73)"
            ],
            [
             0.7529411764705882,
             "rgb(244,135,95)"
            ],
            [
             0.8156862745098039,
             "rgb(245,162,122)"
            ],
            [
             0.8784313725490196,
             "rgb(246,188,153)"
            ],
            [
             0.9411764705882353,
             "rgb(247,212,187)"
            ],
            [
             1,
             "rgb(250,234,220)"
            ]
           ],
           "sequentialminus": [
            [
             0,
             "rgb(2,4,25)"
            ],
            [
             0.06274509803921569,
             "rgb(24,15,41)"
            ],
            [
             0.12549019607843137,
             "rgb(47,23,57)"
            ],
            [
             0.18823529411764706,
             "rgb(71,28,72)"
            ],
            [
             0.25098039215686274,
             "rgb(97,30,82)"
            ],
            [
             0.3137254901960784,
             "rgb(123,30,89)"
            ],
            [
             0.3764705882352941,
             "rgb(150,27,91)"
            ],
            [
             0.4392156862745098,
             "rgb(177,22,88)"
            ],
            [
             0.5019607843137255,
             "rgb(203,26,79)"
            ],
            [
             0.5647058823529412,
             "rgb(223,47,67)"
            ],
            [
             0.6274509803921569,
             "rgb(236,76,61)"
            ],
            [
             0.6901960784313725,
             "rgb(242,107,73)"
            ],
            [
             0.7529411764705882,
             "rgb(244,135,95)"
            ],
            [
             0.8156862745098039,
             "rgb(245,162,122)"
            ],
            [
             0.8784313725490196,
             "rgb(246,188,153)"
            ],
            [
             0.9411764705882353,
             "rgb(247,212,187)"
            ],
            [
             1,
             "rgb(250,234,220)"
            ]
           ]
          },
          "colorway": [
           "rgb(76,114,176)",
           "rgb(221,132,82)",
           "rgb(85,168,104)",
           "rgb(196,78,82)",
           "rgb(129,114,179)",
           "rgb(147,120,96)",
           "rgb(218,139,195)",
           "rgb(140,140,140)",
           "rgb(204,185,116)",
           "rgb(100,181,205)"
          ],
          "font": {
           "color": "rgb(36,36,36)"
          },
          "geo": {
           "bgcolor": "white",
           "lakecolor": "white",
           "landcolor": "rgb(234,234,242)",
           "showlakes": true,
           "showland": true,
           "subunitcolor": "white"
          },
          "hoverlabel": {
           "align": "left"
          },
          "hovermode": "closest",
          "paper_bgcolor": "white",
          "plot_bgcolor": "rgb(234,234,242)",
          "polar": {
           "angularaxis": {
            "gridcolor": "white",
            "linecolor": "white",
            "showgrid": true,
            "ticks": ""
           },
           "bgcolor": "rgb(234,234,242)",
           "radialaxis": {
            "gridcolor": "white",
            "linecolor": "white",
            "showgrid": true,
            "ticks": ""
           }
          },
          "scene": {
           "xaxis": {
            "backgroundcolor": "rgb(234,234,242)",
            "gridcolor": "white",
            "gridwidth": 2,
            "linecolor": "white",
            "showbackground": true,
            "showgrid": true,
            "ticks": "",
            "zerolinecolor": "white"
           },
           "yaxis": {
            "backgroundcolor": "rgb(234,234,242)",
            "gridcolor": "white",
            "gridwidth": 2,
            "linecolor": "white",
            "showbackground": true,
            "showgrid": true,
            "ticks": "",
            "zerolinecolor": "white"
           },
           "zaxis": {
            "backgroundcolor": "rgb(234,234,242)",
            "gridcolor": "white",
            "gridwidth": 2,
            "linecolor": "white",
            "showbackground": true,
            "showgrid": true,
            "ticks": "",
            "zerolinecolor": "white"
           }
          },
          "shapedefaults": {
           "fillcolor": "rgb(67,103,167)",
           "line": {
            "width": 0
           },
           "opacity": 0.5
          },
          "ternary": {
           "aaxis": {
            "gridcolor": "white",
            "linecolor": "white",
            "showgrid": true,
            "ticks": ""
           },
           "baxis": {
            "gridcolor": "white",
            "linecolor": "white",
            "showgrid": true,
            "ticks": ""
           },
           "bgcolor": "rgb(234,234,242)",
           "caxis": {
            "gridcolor": "white",
            "linecolor": "white",
            "showgrid": true,
            "ticks": ""
           }
          },
          "xaxis": {
           "automargin": true,
           "gridcolor": "white",
           "linecolor": "white",
           "showgrid": true,
           "ticks": "",
           "title": {
            "standoff": 15
           },
           "zerolinecolor": "white"
          },
          "yaxis": {
           "automargin": true,
           "gridcolor": "white",
           "linecolor": "white",
           "showgrid": true,
           "ticks": "",
           "title": {
            "standoff": 15
           },
           "zerolinecolor": "white"
          }
         }
        },
        "width": 800,
        "xaxis": {
         "anchor": "y",
         "domain": [
          0,
          1
         ],
         "title": {
          "text": "Initial_days"
         }
        },
        "yaxis": {
         "anchor": "x",
         "domain": [
          0,
          1
         ],
         "title": {
          "text": "VitD_levels"
         }
        }
       }
      }
     },
     "metadata": {},
     "output_type": "display_data"
    }
   ],
   "source": [
    "# Show scatterplot of Initial_days and VitD_levels\n",
    "# with ReAdmis as color to identify categories\n",
    "fig = px.scatter(df.sample(n=200,\n",
    "                           random_state=42),\n",
    "                           x='Initial_days',\n",
    "                           y='VitD_levels',\n",
    "                           color='ReAdmis',\n",
    "                           template='seaborn',\n",
    "                           width=800,\n",
    "                           height=500)\n",
    "fig.show()"
   ]
  },
  {
   "cell_type": "markdown",
   "id": "a87e3ce0",
   "metadata": {},
   "source": [
    "#### Step 3 - Prepare subset data for analysis"
   ]
  },
  {
   "cell_type": "code",
   "execution_count": 10,
   "id": "493f1230",
   "metadata": {},
   "outputs": [
    {
     "name": "stdout",
     "output_type": "stream",
     "text": [
      "<class 'pandas.core.frame.DataFrame'>\n",
      "RangeIndex: 10000 entries, 0 to 9999\n",
      "Data columns (total 3 columns):\n",
      " #   Column        Non-Null Count  Dtype   \n",
      "---  ------        --------------  -----   \n",
      " 0   Initial_days  10000 non-null  float64 \n",
      " 1   VitD_levels   10000 non-null  float64 \n",
      " 2   ReAdmis       10000 non-null  category\n",
      "dtypes: category(1), float64(2)\n",
      "memory usage: 166.3 KB\n"
     ]
    }
   ],
   "source": [
    "# Set ReAdmis to category type for easier\n",
    "# handling with model and later visualization\n",
    "df1.ReAdmis = df1.ReAdmis.astype('category')\n",
    "df1.info()\n"
   ]
  },
  {
   "cell_type": "code",
   "execution_count": 11,
   "id": "4d08ab8c",
   "metadata": {},
   "outputs": [],
   "source": [
    "# Declare X as df1 Initial_days and VitD_levels\n",
    "# without target feature ReAdmis\n",
    "X = df1.drop(['ReAdmis'],\n",
    "             axis=1)\n",
    "\n",
    "# Declare y as df1 Readmis target feature \n",
    "y = df1.ReAdmis\n",
    "\n",
    "# Split data using 80/20 split and seed 42\n",
    "X_train, X_test, y_train, y_test = train_test_split(X, y, test_size=.2, random_state=42)\n"
   ]
  },
  {
   "cell_type": "markdown",
   "id": "a87e3ce0",
   "metadata": {},
   "source": [
    "#### Step 4 - Set kNN, fit, and test"
   ]
  },
  {
   "cell_type": "code",
   "execution_count": 12,
   "id": "37cc21f5",
   "metadata": {},
   "outputs": [
    {
     "data": {
      "text/plain": [
       "0.982"
      ]
     },
     "execution_count": 12,
     "metadata": {},
     "output_type": "execute_result"
    }
   ],
   "source": [
    "# Set kNN k=7 and fit to training data\n",
    "knn = KNeighborsClassifier(7)\n",
    "knn.fit(X_train,\n",
    "        y_train)\n",
    "\n",
    "# Test kNN on test data\n",
    "knn.score(X_test,\n",
    "          y_test)"
   ]
  },
  {
   "cell_type": "code",
   "execution_count": 13,
   "id": "37cc21f5",
   "metadata": {},
   "outputs": [
    {
     "data": {
      "text/plain": [
       "0.982"
      ]
     },
     "execution_count": 13,
     "metadata": {},
     "output_type": "execute_result"
    }
   ],
   "source": [
    "# Set kNN k=7 and fit to training data\n",
    "knn = KNeighborsClassifier(7)\n",
    "knn.fit(X_train,\n",
    "        y_train)\n",
    "\n",
    "# Test kNN on test data\n",
    "knn.score(X_test,\n",
    "          y_test)"
   ]
  },
  {
   "cell_type": "markdown",
   "id": "a87e3ce0",
   "metadata": {},
   "source": [
    "#### Step 5 - Solve for optimal `n_neighbors`"
   ]
  },
  {
   "cell_type": "code",
   "execution_count": 14,
   "id": "228fdfc0",
   "metadata": {},
   "outputs": [
    {
     "data": {
      "application/vnd.plotly.v1+json": {
       "config": {
        "plotlyServerURL": "https://plot.ly"
       },
       "data": [
        {
         "hovertemplate": "num_k=%{x}<br>knnscore=%{y}<extra></extra>",
         "legendgroup": "",
         "line": {
          "color": "#636efa",
          "dash": "solid"
         },
         "marker": {
          "symbol": "circle"
         },
         "mode": "lines",
         "name": "",
         "orientation": "v",
         "showlegend": false,
         "type": "scatter",
         "x": [
          1,
          2,
          3,
          4,
          5,
          6,
          7,
          8,
          9,
          10,
          11,
          12,
          13,
          14,
          15,
          16,
          17,
          18,
          19,
          20
         ],
         "xaxis": "x",
         "y": [
          0.971,
          0.974,
          0.981,
          0.9775,
          0.98,
          0.98,
          0.982,
          0.9805,
          0.9815,
          0.9815,
          0.9825,
          0.982,
          0.984,
          0.9825,
          0.982,
          0.9815,
          0.9815,
          0.981,
          0.9815,
          0.981
         ],
         "yaxis": "y"
        }
       ],
       "layout": {
        "height": 500,
        "legend": {
         "tracegroupgap": 0
        },
        "margin": {
         "t": 60
        },
        "template": {
         "data": {
          "bar": [
           {
            "error_x": {
             "color": "#2a3f5f"
            },
            "error_y": {
             "color": "#2a3f5f"
            },
            "marker": {
             "line": {
              "color": "#E5ECF6",
              "width": 0.5
             },
             "pattern": {
              "fillmode": "overlay",
              "size": 10,
              "solidity": 0.2
             }
            },
            "type": "bar"
           }
          ],
          "barpolar": [
           {
            "marker": {
             "line": {
              "color": "#E5ECF6",
              "width": 0.5
             },
             "pattern": {
              "fillmode": "overlay",
              "size": 10,
              "solidity": 0.2
             }
            },
            "type": "barpolar"
           }
          ],
          "carpet": [
           {
            "aaxis": {
             "endlinecolor": "#2a3f5f",
             "gridcolor": "white",
             "linecolor": "white",
             "minorgridcolor": "white",
             "startlinecolor": "#2a3f5f"
            },
            "baxis": {
             "endlinecolor": "#2a3f5f",
             "gridcolor": "white",
             "linecolor": "white",
             "minorgridcolor": "white",
             "startlinecolor": "#2a3f5f"
            },
            "type": "carpet"
           }
          ],
          "choropleth": [
           {
            "colorbar": {
             "outlinewidth": 0,
             "ticks": ""
            },
            "type": "choropleth"
           }
          ],
          "contour": [
           {
            "colorbar": {
             "outlinewidth": 0,
             "ticks": ""
            },
            "colorscale": [
             [
              0,
              "#0d0887"
             ],
             [
              0.1111111111111111,
              "#46039f"
             ],
             [
              0.2222222222222222,
              "#7201a8"
             ],
             [
              0.3333333333333333,
              "#9c179e"
             ],
             [
              0.4444444444444444,
              "#bd3786"
             ],
             [
              0.5555555555555556,
              "#d8576b"
             ],
             [
              0.6666666666666666,
              "#ed7953"
             ],
             [
              0.7777777777777778,
              "#fb9f3a"
             ],
             [
              0.8888888888888888,
              "#fdca26"
             ],
             [
              1,
              "#f0f921"
             ]
            ],
            "type": "contour"
           }
          ],
          "contourcarpet": [
           {
            "colorbar": {
             "outlinewidth": 0,
             "ticks": ""
            },
            "type": "contourcarpet"
           }
          ],
          "heatmap": [
           {
            "colorbar": {
             "outlinewidth": 0,
             "ticks": ""
            },
            "colorscale": [
             [
              0,
              "#0d0887"
             ],
             [
              0.1111111111111111,
              "#46039f"
             ],
             [
              0.2222222222222222,
              "#7201a8"
             ],
             [
              0.3333333333333333,
              "#9c179e"
             ],
             [
              0.4444444444444444,
              "#bd3786"
             ],
             [
              0.5555555555555556,
              "#d8576b"
             ],
             [
              0.6666666666666666,
              "#ed7953"
             ],
             [
              0.7777777777777778,
              "#fb9f3a"
             ],
             [
              0.8888888888888888,
              "#fdca26"
             ],
             [
              1,
              "#f0f921"
             ]
            ],
            "type": "heatmap"
           }
          ],
          "heatmapgl": [
           {
            "colorbar": {
             "outlinewidth": 0,
             "ticks": ""
            },
            "colorscale": [
             [
              0,
              "#0d0887"
             ],
             [
              0.1111111111111111,
              "#46039f"
             ],
             [
              0.2222222222222222,
              "#7201a8"
             ],
             [
              0.3333333333333333,
              "#9c179e"
             ],
             [
              0.4444444444444444,
              "#bd3786"
             ],
             [
              0.5555555555555556,
              "#d8576b"
             ],
             [
              0.6666666666666666,
              "#ed7953"
             ],
             [
              0.7777777777777778,
              "#fb9f3a"
             ],
             [
              0.8888888888888888,
              "#fdca26"
             ],
             [
              1,
              "#f0f921"
             ]
            ],
            "type": "heatmapgl"
           }
          ],
          "histogram": [
           {
            "marker": {
             "pattern": {
              "fillmode": "overlay",
              "size": 10,
              "solidity": 0.2
             }
            },
            "type": "histogram"
           }
          ],
          "histogram2d": [
           {
            "colorbar": {
             "outlinewidth": 0,
             "ticks": ""
            },
            "colorscale": [
             [
              0,
              "#0d0887"
             ],
             [
              0.1111111111111111,
              "#46039f"
             ],
             [
              0.2222222222222222,
              "#7201a8"
             ],
             [
              0.3333333333333333,
              "#9c179e"
             ],
             [
              0.4444444444444444,
              "#bd3786"
             ],
             [
              0.5555555555555556,
              "#d8576b"
             ],
             [
              0.6666666666666666,
              "#ed7953"
             ],
             [
              0.7777777777777778,
              "#fb9f3a"
             ],
             [
              0.8888888888888888,
              "#fdca26"
             ],
             [
              1,
              "#f0f921"
             ]
            ],
            "type": "histogram2d"
           }
          ],
          "histogram2dcontour": [
           {
            "colorbar": {
             "outlinewidth": 0,
             "ticks": ""
            },
            "colorscale": [
             [
              0,
              "#0d0887"
             ],
             [
              0.1111111111111111,
              "#46039f"
             ],
             [
              0.2222222222222222,
              "#7201a8"
             ],
             [
              0.3333333333333333,
              "#9c179e"
             ],
             [
              0.4444444444444444,
              "#bd3786"
             ],
             [
              0.5555555555555556,
              "#d8576b"
             ],
             [
              0.6666666666666666,
              "#ed7953"
             ],
             [
              0.7777777777777778,
              "#fb9f3a"
             ],
             [
              0.8888888888888888,
              "#fdca26"
             ],
             [
              1,
              "#f0f921"
             ]
            ],
            "type": "histogram2dcontour"
           }
          ],
          "mesh3d": [
           {
            "colorbar": {
             "outlinewidth": 0,
             "ticks": ""
            },
            "type": "mesh3d"
           }
          ],
          "parcoords": [
           {
            "line": {
             "colorbar": {
              "outlinewidth": 0,
              "ticks": ""
             }
            },
            "type": "parcoords"
           }
          ],
          "pie": [
           {
            "automargin": true,
            "type": "pie"
           }
          ],
          "scatter": [
           {
            "marker": {
             "colorbar": {
              "outlinewidth": 0,
              "ticks": ""
             }
            },
            "type": "scatter"
           }
          ],
          "scatter3d": [
           {
            "line": {
             "colorbar": {
              "outlinewidth": 0,
              "ticks": ""
             }
            },
            "marker": {
             "colorbar": {
              "outlinewidth": 0,
              "ticks": ""
             }
            },
            "type": "scatter3d"
           }
          ],
          "scattercarpet": [
           {
            "marker": {
             "colorbar": {
              "outlinewidth": 0,
              "ticks": ""
             }
            },
            "type": "scattercarpet"
           }
          ],
          "scattergeo": [
           {
            "marker": {
             "colorbar": {
              "outlinewidth": 0,
              "ticks": ""
             }
            },
            "type": "scattergeo"
           }
          ],
          "scattergl": [
           {
            "marker": {
             "colorbar": {
              "outlinewidth": 0,
              "ticks": ""
             }
            },
            "type": "scattergl"
           }
          ],
          "scattermapbox": [
           {
            "marker": {
             "colorbar": {
              "outlinewidth": 0,
              "ticks": ""
             }
            },
            "type": "scattermapbox"
           }
          ],
          "scatterpolar": [
           {
            "marker": {
             "colorbar": {
              "outlinewidth": 0,
              "ticks": ""
             }
            },
            "type": "scatterpolar"
           }
          ],
          "scatterpolargl": [
           {
            "marker": {
             "colorbar": {
              "outlinewidth": 0,
              "ticks": ""
             }
            },
            "type": "scatterpolargl"
           }
          ],
          "scatterternary": [
           {
            "marker": {
             "colorbar": {
              "outlinewidth": 0,
              "ticks": ""
             }
            },
            "type": "scatterternary"
           }
          ],
          "surface": [
           {
            "colorbar": {
             "outlinewidth": 0,
             "ticks": ""
            },
            "colorscale": [
             [
              0,
              "#0d0887"
             ],
             [
              0.1111111111111111,
              "#46039f"
             ],
             [
              0.2222222222222222,
              "#7201a8"
             ],
             [
              0.3333333333333333,
              "#9c179e"
             ],
             [
              0.4444444444444444,
              "#bd3786"
             ],
             [
              0.5555555555555556,
              "#d8576b"
             ],
             [
              0.6666666666666666,
              "#ed7953"
             ],
             [
              0.7777777777777778,
              "#fb9f3a"
             ],
             [
              0.8888888888888888,
              "#fdca26"
             ],
             [
              1,
              "#f0f921"
             ]
            ],
            "type": "surface"
           }
          ],
          "table": [
           {
            "cells": {
             "fill": {
              "color": "#EBF0F8"
             },
             "line": {
              "color": "white"
             }
            },
            "header": {
             "fill": {
              "color": "#C8D4E3"
             },
             "line": {
              "color": "white"
             }
            },
            "type": "table"
           }
          ]
         },
         "layout": {
          "annotationdefaults": {
           "arrowcolor": "#2a3f5f",
           "arrowhead": 0,
           "arrowwidth": 1
          },
          "autotypenumbers": "strict",
          "coloraxis": {
           "colorbar": {
            "outlinewidth": 0,
            "ticks": ""
           }
          },
          "colorscale": {
           "diverging": [
            [
             0,
             "#8e0152"
            ],
            [
             0.1,
             "#c51b7d"
            ],
            [
             0.2,
             "#de77ae"
            ],
            [
             0.3,
             "#f1b6da"
            ],
            [
             0.4,
             "#fde0ef"
            ],
            [
             0.5,
             "#f7f7f7"
            ],
            [
             0.6,
             "#e6f5d0"
            ],
            [
             0.7,
             "#b8e186"
            ],
            [
             0.8,
             "#7fbc41"
            ],
            [
             0.9,
             "#4d9221"
            ],
            [
             1,
             "#276419"
            ]
           ],
           "sequential": [
            [
             0,
             "#0d0887"
            ],
            [
             0.1111111111111111,
             "#46039f"
            ],
            [
             0.2222222222222222,
             "#7201a8"
            ],
            [
             0.3333333333333333,
             "#9c179e"
            ],
            [
             0.4444444444444444,
             "#bd3786"
            ],
            [
             0.5555555555555556,
             "#d8576b"
            ],
            [
             0.6666666666666666,
             "#ed7953"
            ],
            [
             0.7777777777777778,
             "#fb9f3a"
            ],
            [
             0.8888888888888888,
             "#fdca26"
            ],
            [
             1,
             "#f0f921"
            ]
           ],
           "sequentialminus": [
            [
             0,
             "#0d0887"
            ],
            [
             0.1111111111111111,
             "#46039f"
            ],
            [
             0.2222222222222222,
             "#7201a8"
            ],
            [
             0.3333333333333333,
             "#9c179e"
            ],
            [
             0.4444444444444444,
             "#bd3786"
            ],
            [
             0.5555555555555556,
             "#d8576b"
            ],
            [
             0.6666666666666666,
             "#ed7953"
            ],
            [
             0.7777777777777778,
             "#fb9f3a"
            ],
            [
             0.8888888888888888,
             "#fdca26"
            ],
            [
             1,
             "#f0f921"
            ]
           ]
          },
          "colorway": [
           "#636efa",
           "#EF553B",
           "#00cc96",
           "#ab63fa",
           "#FFA15A",
           "#19d3f3",
           "#FF6692",
           "#B6E880",
           "#FF97FF",
           "#FECB52"
          ],
          "font": {
           "color": "#2a3f5f"
          },
          "geo": {
           "bgcolor": "white",
           "lakecolor": "white",
           "landcolor": "#E5ECF6",
           "showlakes": true,
           "showland": true,
           "subunitcolor": "white"
          },
          "hoverlabel": {
           "align": "left"
          },
          "hovermode": "closest",
          "mapbox": {
           "style": "light"
          },
          "paper_bgcolor": "white",
          "plot_bgcolor": "#E5ECF6",
          "polar": {
           "angularaxis": {
            "gridcolor": "white",
            "linecolor": "white",
            "ticks": ""
           },
           "bgcolor": "#E5ECF6",
           "radialaxis": {
            "gridcolor": "white",
            "linecolor": "white",
            "ticks": ""
           }
          },
          "scene": {
           "xaxis": {
            "backgroundcolor": "#E5ECF6",
            "gridcolor": "white",
            "gridwidth": 2,
            "linecolor": "white",
            "showbackground": true,
            "ticks": "",
            "zerolinecolor": "white"
           },
           "yaxis": {
            "backgroundcolor": "#E5ECF6",
            "gridcolor": "white",
            "gridwidth": 2,
            "linecolor": "white",
            "showbackground": true,
            "ticks": "",
            "zerolinecolor": "white"
           },
           "zaxis": {
            "backgroundcolor": "#E5ECF6",
            "gridcolor": "white",
            "gridwidth": 2,
            "linecolor": "white",
            "showbackground": true,
            "ticks": "",
            "zerolinecolor": "white"
           }
          },
          "shapedefaults": {
           "line": {
            "color": "#2a3f5f"
           }
          },
          "ternary": {
           "aaxis": {
            "gridcolor": "white",
            "linecolor": "white",
            "ticks": ""
           },
           "baxis": {
            "gridcolor": "white",
            "linecolor": "white",
            "ticks": ""
           },
           "bgcolor": "#E5ECF6",
           "caxis": {
            "gridcolor": "white",
            "linecolor": "white",
            "ticks": ""
           }
          },
          "title": {
           "x": 0.05
          },
          "xaxis": {
           "automargin": true,
           "gridcolor": "white",
           "linecolor": "white",
           "ticks": "",
           "title": {
            "standoff": 15
           },
           "zerolinecolor": "white",
           "zerolinewidth": 2
          },
          "yaxis": {
           "automargin": true,
           "gridcolor": "white",
           "linecolor": "white",
           "ticks": "",
           "title": {
            "standoff": 15
           },
           "zerolinecolor": "white",
           "zerolinewidth": 2
          }
         }
        },
        "width": 700,
        "xaxis": {
         "anchor": "y",
         "domain": [
          0,
          1
         ],
         "title": {
          "text": "num_k"
         }
        },
        "yaxis": {
         "anchor": "x",
         "domain": [
          0,
          1
         ],
         "title": {
          "text": "knnscore"
         }
        }
       }
      }
     },
     "metadata": {},
     "output_type": "display_data"
    }
   ],
   "source": [
    "# Loop through attempts to fit kNN using k\n",
    "# value of 1 through 20 to identify optimal k\n",
    "num_k = []\n",
    "knnscore = []\n",
    "for i in range(1,21):\n",
    "    num_k.append(i)\n",
    "    knn = KNeighborsClassifier(n_neighbors=i)\n",
    "    knn.fit(X_train,y_train)\n",
    "    knnscore.append(knn.score(X_test,\n",
    "                              y_test))\n",
    "\n",
    "# Create df of each k value and corresponding score\n",
    "pltscore = pd.DataFrame({'num_k': num_k,\n",
    "                         'knnscore': knnscore})\n",
    "\n",
    "# Plot score by k value\n",
    "fig = px.line(pltscore,\n",
    "              x='num_k',\n",
    "              y='knnscore',\n",
    "              width=700,\n",
    "              height=500)\n",
    "fig.show()"
   ]
  },
  {
   "cell_type": "markdown",
   "id": "3ccf8475",
   "metadata": {},
   "source": [
    "As demonstrated above, it seems that a $k$ of 13 is a decent value to stick with based on the scoring method we've implemented. We will perform additional analysis on accuracy below."
   ]
  },
  {
   "cell_type": "markdown",
   "id": "f2ea2797",
   "metadata": {},
   "source": [
    "## Part V - Data Summary & Implications"
   ]
  },
  {
   "cell_type": "markdown",
   "id": "f77e7638",
   "metadata": {},
   "source": [
    "### E1: Accuracy & AUC"
   ]
  },
  {
   "cell_type": "markdown",
   "id": "069686b1",
   "metadata": {},
   "source": [
    "The model has performed well, considering the scoring method utilized above. Below we will use an alternative scoring method, ROC-AUC, to understand the accuracy of the model. Calculating ROC, or Receiver Operator Characteristic, curve allows us to visualize the AUC, or Area Under the Curve. The ROC curve demonstrates the rate of true positive results on the Y-axis with the rate of false positives along the X-axis, thereby allowing us to understand the relationship between the model's specificity and sensitivity. AUC is a numerical value between 0 and 1 denoting the percent of area the ROC curve covers. In the case of our model, as demonstrated below, the AUC score is 0.9973, which is exceptional performance with a high level of true positives and true negatives."
   ]
  },
  {
   "cell_type": "code",
   "execution_count": 15,
   "id": "05a017d3",
   "metadata": {},
   "outputs": [
    {
     "data": {
      "image/png": "[encoded data removed]",
      "text/plain": [
       "<Figure size 432x288 with 1 Axes>"
      ]
     },
     "metadata": {
      "needs_background": "light"
     },
     "output_type": "display_data"
    }
   ],
   "source": [
    "# Declare X as df1 Initial_days and VitD_levels\n",
    "# without target feature ReAdmis\n",
    "X = df1.drop(['ReAdmis'],\n",
    "             axis=1)\n",
    "\n",
    "# Declare y as df1 Readmis target feature using 0/1\n",
    "y = df1.ReAdmis.cat.codes\n",
    "\n",
    "# Split data using 80/20 split and seed 42\n",
    "X_train, X_test, y_train, y_test = train_test_split(X, y, test_size=.2, random_state=42)\n",
    "\n",
    "# Set neighbors value of 13 and fit\n",
    "knn = KNeighborsClassifier(n_neighbors= 13)\n",
    "knn.fit(X_train,y_train)\n",
    "\n",
    "# Calculate ROC Curve and AUC\n",
    "y_scores = knn.predict_proba(X_test)\n",
    "fpr, tpr, threshold = roc_curve(y_test, y_scores[:, 1])\n",
    "roc_auc = auc(fpr, tpr)\n",
    "\n",
    "# Plot ROC Curve with AUC value\n",
    "plt.title('KNN ROC Curve')\n",
    "plt.plot(fpr,\n",
    "         tpr,\n",
    "         'b',\n",
    "         label= 'AUC: %0.4f' % roc_auc,\n",
    "         lw=3)\n",
    "plt.plot([0, 1], [0, 1],'g--')\n",
    "plt.legend()\n",
    "plt.xlim([0, 1])\n",
    "plt.ylim([0, 1])\n",
    "plt.xlabel('FP Rate')\n",
    "plt.ylabel('TP Rate')\n",
    "plt.show()"
   ]
  },
  {
   "cell_type": "markdown",
   "id": "34794652",
   "metadata": {},
   "source": [
    "As a final step in our process of ensuring an optimal $k$ value, we will run the same optimization to visualize the range of 1-20 $k$ values with their corresponding AUC score and see whether our chosen $k$ of 13 remains an appropriate choice."
   ]
  },
  {
   "cell_type": "code",
   "execution_count": 16,
   "id": "a869c5c7",
   "metadata": {},
   "outputs": [
    {
     "data": {
      "application/vnd.plotly.v1+json": {
       "config": {
        "plotlyServerURL": "https://plot.ly"
       },
       "data": [
        {
         "hovertemplate": "num_k=%{x}<br>auc_score=%{y}<extra></extra>",
         "legendgroup": "",
         "line": {
          "color": "#636efa",
          "dash": "solid"
         },
         "marker": {
          "symbol": "circle"
         },
         "mode": "lines",
         "name": "",
         "orientation": "v",
         "showlegend": false,
         "type": "scatter",
         "x": [
          1,
          2,
          3,
          4,
          5,
          6,
          7,
          8,
          9,
          10,
          11,
          12,
          13,
          14,
          15,
          16,
          17,
          18,
          19,
          20
         ],
         "xaxis": "x",
         "y": [
          0.9657736810882326,
          0.986584458533036,
          0.9883838312107582,
          0.9917460470065628,
          0.9935060891339522,
          0.9949624120115501,
          0.9956736394634003,
          0.9963307874085429,
          0.9962619589454604,
          0.99626032017253,
          0.9972752668741718,
          0.9972812757082504,
          0.997320606258583,
          0.9972954784069816,
          0.9973025797563473,
          0.9973096811057129,
          0.9973102273633564,
          0.9973003947257731,
          0.9973348089573144,
          0.9973539279748372
         ],
         "yaxis": "y"
        }
       ],
       "layout": {
        "height": 500,
        "legend": {
         "tracegroupgap": 0
        },
        "margin": {
         "t": 60
        },
        "template": {
         "data": {
          "bar": [
           {
            "error_x": {
             "color": "#2a3f5f"
            },
            "error_y": {
             "color": "#2a3f5f"
            },
            "marker": {
             "line": {
              "color": "#E5ECF6",
              "width": 0.5
             },
             "pattern": {
              "fillmode": "overlay",
              "size": 10,
              "solidity": 0.2
             }
            },
            "type": "bar"
           }
          ],
          "barpolar": [
           {
            "marker": {
             "line": {
              "color": "#E5ECF6",
              "width": 0.5
             },
             "pattern": {
              "fillmode": "overlay",
              "size": 10,
              "solidity": 0.2
             }
            },
            "type": "barpolar"
           }
          ],
          "carpet": [
           {
            "aaxis": {
             "endlinecolor": "#2a3f5f",
             "gridcolor": "white",
             "linecolor": "white",
             "minorgridcolor": "white",
             "startlinecolor": "#2a3f5f"
            },
            "baxis": {
             "endlinecolor": "#2a3f5f",
             "gridcolor": "white",
             "linecolor": "white",
             "minorgridcolor": "white",
             "startlinecolor": "#2a3f5f"
            },
            "type": "carpet"
           }
          ],
          "choropleth": [
           {
            "colorbar": {
             "outlinewidth": 0,
             "ticks": ""
            },
            "type": "choropleth"
           }
          ],
          "contour": [
           {
            "colorbar": {
             "outlinewidth": 0,
             "ticks": ""
            },
            "colorscale": [
             [
              0,
              "#0d0887"
             ],
             [
              0.1111111111111111,
              "#46039f"
             ],
             [
              0.2222222222222222,
              "#7201a8"
             ],
             [
              0.3333333333333333,
              "#9c179e"
             ],
             [
              0.4444444444444444,
              "#bd3786"
             ],
             [
              0.5555555555555556,
              "#d8576b"
             ],
             [
              0.6666666666666666,
              "#ed7953"
             ],
             [
              0.7777777777777778,
              "#fb9f3a"
             ],
             [
              0.8888888888888888,
              "#fdca26"
             ],
             [
              1,
              "#f0f921"
             ]
            ],
            "type": "contour"
           }
          ],
          "contourcarpet": [
           {
            "colorbar": {
             "outlinewidth": 0,
             "ticks": ""
            },
            "type": "contourcarpet"
           }
          ],
          "heatmap": [
           {
            "colorbar": {
             "outlinewidth": 0,
             "ticks": ""
            },
            "colorscale": [
             [
              0,
              "#0d0887"
             ],
             [
              0.1111111111111111,
              "#46039f"
             ],
             [
              0.2222222222222222,
              "#7201a8"
             ],
             [
              0.3333333333333333,
              "#9c179e"
             ],
             [
              0.4444444444444444,
              "#bd3786"
             ],
             [
              0.5555555555555556,
              "#d8576b"
             ],
             [
              0.6666666666666666,
              "#ed7953"
             ],
             [
              0.7777777777777778,
              "#fb9f3a"
             ],
             [
              0.8888888888888888,
              "#fdca26"
             ],
             [
              1,
              "#f0f921"
             ]
            ],
            "type": "heatmap"
           }
          ],
          "heatmapgl": [
           {
            "colorbar": {
             "outlinewidth": 0,
             "ticks": ""
            },
            "colorscale": [
             [
              0,
              "#0d0887"
             ],
             [
              0.1111111111111111,
              "#46039f"
             ],
             [
              0.2222222222222222,
              "#7201a8"
             ],
             [
              0.3333333333333333,
              "#9c179e"
             ],
             [
              0.4444444444444444,
              "#bd3786"
             ],
             [
              0.5555555555555556,
              "#d8576b"
             ],
             [
              0.6666666666666666,
              "#ed7953"
             ],
             [
              0.7777777777777778,
              "#fb9f3a"
             ],
             [
              0.8888888888888888,
              "#fdca26"
             ],
             [
              1,
              "#f0f921"
             ]
            ],
            "type": "heatmapgl"
           }
          ],
          "histogram": [
           {
            "marker": {
             "pattern": {
              "fillmode": "overlay",
              "size": 10,
              "solidity": 0.2
             }
            },
            "type": "histogram"
           }
          ],
          "histogram2d": [
           {
            "colorbar": {
             "outlinewidth": 0,
             "ticks": ""
            },
            "colorscale": [
             [
              0,
              "#0d0887"
             ],
             [
              0.1111111111111111,
              "#46039f"
             ],
             [
              0.2222222222222222,
              "#7201a8"
             ],
             [
              0.3333333333333333,
              "#9c179e"
             ],
             [
              0.4444444444444444,
              "#bd3786"
             ],
             [
              0.5555555555555556,
              "#d8576b"
             ],
             [
              0.6666666666666666,
              "#ed7953"
             ],
             [
              0.7777777777777778,
              "#fb9f3a"
             ],
             [
              0.8888888888888888,
              "#fdca26"
             ],
             [
              1,
              "#f0f921"
             ]
            ],
            "type": "histogram2d"
           }
          ],
          "histogram2dcontour": [
           {
            "colorbar": {
             "outlinewidth": 0,
             "ticks": ""
            },
            "colorscale": [
             [
              0,
              "#0d0887"
             ],
             [
              0.1111111111111111,
              "#46039f"
             ],
             [
              0.2222222222222222,
              "#7201a8"
             ],
             [
              0.3333333333333333,
              "#9c179e"
             ],
             [
              0.4444444444444444,
              "#bd3786"
             ],
             [
              0.5555555555555556,
              "#d8576b"
             ],
             [
              0.6666666666666666,
              "#ed7953"
             ],
             [
              0.7777777777777778,
              "#fb9f3a"
             ],
             [
              0.8888888888888888,
              "#fdca26"
             ],
             [
              1,
              "#f0f921"
             ]
            ],
            "type": "histogram2dcontour"
           }
          ],
          "mesh3d": [
           {
            "colorbar": {
             "outlinewidth": 0,
             "ticks": ""
            },
            "type": "mesh3d"
           }
          ],
          "parcoords": [
           {
            "line": {
             "colorbar": {
              "outlinewidth": 0,
              "ticks": ""
             }
            },
            "type": "parcoords"
           }
          ],
          "pie": [
           {
            "automargin": true,
            "type": "pie"
           }
          ],
          "scatter": [
           {
            "marker": {
             "colorbar": {
              "outlinewidth": 0,
              "ticks": ""
             }
            },
            "type": "scatter"
           }
          ],
          "scatter3d": [
           {
            "line": {
             "colorbar": {
              "outlinewidth": 0,
              "ticks": ""
             }
            },
            "marker": {
             "colorbar": {
              "outlinewidth": 0,
              "ticks": ""
             }
            },
            "type": "scatter3d"
           }
          ],
          "scattercarpet": [
           {
            "marker": {
             "colorbar": {
              "outlinewidth": 0,
              "ticks": ""
             }
            },
            "type": "scattercarpet"
           }
          ],
          "scattergeo": [
           {
            "marker": {
             "colorbar": {
              "outlinewidth": 0,
              "ticks": ""
             }
            },
            "type": "scattergeo"
           }
          ],
          "scattergl": [
           {
            "marker": {
             "colorbar": {
              "outlinewidth": 0,
              "ticks": ""
             }
            },
            "type": "scattergl"
           }
          ],
          "scattermapbox": [
           {
            "marker": {
             "colorbar": {
              "outlinewidth": 0,
              "ticks": ""
             }
            },
            "type": "scattermapbox"
           }
          ],
          "scatterpolar": [
           {
            "marker": {
             "colorbar": {
              "outlinewidth": 0,
              "ticks": ""
             }
            },
            "type": "scatterpolar"
           }
          ],
          "scatterpolargl": [
           {
            "marker": {
             "colorbar": {
              "outlinewidth": 0,
              "ticks": ""
             }
            },
            "type": "scatterpolargl"
           }
          ],
          "scatterternary": [
           {
            "marker": {
             "colorbar": {
              "outlinewidth": 0,
              "ticks": ""
             }
            },
            "type": "scatterternary"
           }
          ],
          "surface": [
           {
            "colorbar": {
             "outlinewidth": 0,
             "ticks": ""
            },
            "colorscale": [
             [
              0,
              "#0d0887"
             ],
             [
              0.1111111111111111,
              "#46039f"
             ],
             [
              0.2222222222222222,
              "#7201a8"
             ],
             [
              0.3333333333333333,
              "#9c179e"
             ],
             [
              0.4444444444444444,
              "#bd3786"
             ],
             [
              0.5555555555555556,
              "#d8576b"
             ],
             [
              0.6666666666666666,
              "#ed7953"
             ],
             [
              0.7777777777777778,
              "#fb9f3a"
             ],
             [
              0.8888888888888888,
              "#fdca26"
             ],
             [
              1,
              "#f0f921"
             ]
            ],
            "type": "surface"
           }
          ],
          "table": [
           {
            "cells": {
             "fill": {
              "color": "#EBF0F8"
             },
             "line": {
              "color": "white"
             }
            },
            "header": {
             "fill": {
              "color": "#C8D4E3"
             },
             "line": {
              "color": "white"
             }
            },
            "type": "table"
           }
          ]
         },
         "layout": {
          "annotationdefaults": {
           "arrowcolor": "#2a3f5f",
           "arrowhead": 0,
           "arrowwidth": 1
          },
          "autotypenumbers": "strict",
          "coloraxis": {
           "colorbar": {
            "outlinewidth": 0,
            "ticks": ""
           }
          },
          "colorscale": {
           "diverging": [
            [
             0,
             "#8e0152"
            ],
            [
             0.1,
             "#c51b7d"
            ],
            [
             0.2,
             "#de77ae"
            ],
            [
             0.3,
             "#f1b6da"
            ],
            [
             0.4,
             "#fde0ef"
            ],
            [
             0.5,
             "#f7f7f7"
            ],
            [
             0.6,
             "#e6f5d0"
            ],
            [
             0.7,
             "#b8e186"
            ],
            [
             0.8,
             "#7fbc41"
            ],
            [
             0.9,
             "#4d9221"
            ],
            [
             1,
             "#276419"
            ]
           ],
           "sequential": [
            [
             0,
             "#0d0887"
            ],
            [
             0.1111111111111111,
             "#46039f"
            ],
            [
             0.2222222222222222,
             "#7201a8"
            ],
            [
             0.3333333333333333,
             "#9c179e"
            ],
            [
             0.4444444444444444,
             "#bd3786"
            ],
            [
             0.5555555555555556,
             "#d8576b"
            ],
            [
             0.6666666666666666,
             "#ed7953"
            ],
            [
             0.7777777777777778,
             "#fb9f3a"
            ],
            [
             0.8888888888888888,
             "#fdca26"
            ],
            [
             1,
             "#f0f921"
            ]
           ],
           "sequentialminus": [
            [
             0,
             "#0d0887"
            ],
            [
             0.1111111111111111,
             "#46039f"
            ],
            [
             0.2222222222222222,
             "#7201a8"
            ],
            [
             0.3333333333333333,
             "#9c179e"
            ],
            [
             0.4444444444444444,
             "#bd3786"
            ],
            [
             0.5555555555555556,
             "#d8576b"
            ],
            [
             0.6666666666666666,
             "#ed7953"
            ],
            [
             0.7777777777777778,
             "#fb9f3a"
            ],
            [
             0.8888888888888888,
             "#fdca26"
            ],
            [
             1,
             "#f0f921"
            ]
           ]
          },
          "colorway": [
           "#636efa",
           "#EF553B",
           "#00cc96",
           "#ab63fa",
           "#FFA15A",
           "#19d3f3",
           "#FF6692",
           "#B6E880",
           "#FF97FF",
           "#FECB52"
          ],
          "font": {
           "color": "#2a3f5f"
          },
          "geo": {
           "bgcolor": "white",
           "lakecolor": "white",
           "landcolor": "#E5ECF6",
           "showlakes": true,
           "showland": true,
           "subunitcolor": "white"
          },
          "hoverlabel": {
           "align": "left"
          },
          "hovermode": "closest",
          "mapbox": {
           "style": "light"
          },
          "paper_bgcolor": "white",
          "plot_bgcolor": "#E5ECF6",
          "polar": {
           "angularaxis": {
            "gridcolor": "white",
            "linecolor": "white",
            "ticks": ""
           },
           "bgcolor": "#E5ECF6",
           "radialaxis": {
            "gridcolor": "white",
            "linecolor": "white",
            "ticks": ""
           }
          },
          "scene": {
           "xaxis": {
            "backgroundcolor": "#E5ECF6",
            "gridcolor": "white",
            "gridwidth": 2,
            "linecolor": "white",
            "showbackground": true,
            "ticks": "",
            "zerolinecolor": "white"
           },
           "yaxis": {
            "backgroundcolor": "#E5ECF6",
            "gridcolor": "white",
            "gridwidth": 2,
            "linecolor": "white",
            "showbackground": true,
            "ticks": "",
            "zerolinecolor": "white"
           },
           "zaxis": {
            "backgroundcolor": "#E5ECF6",
            "gridcolor": "white",
            "gridwidth": 2,
            "linecolor": "white",
            "showbackground": true,
            "ticks": "",
            "zerolinecolor": "white"
           }
          },
          "shapedefaults": {
           "line": {
            "color": "#2a3f5f"
           }
          },
          "ternary": {
           "aaxis": {
            "gridcolor": "white",
            "linecolor": "white",
            "ticks": ""
           },
           "baxis": {
            "gridcolor": "white",
            "linecolor": "white",
            "ticks": ""
           },
           "bgcolor": "#E5ECF6",
           "caxis": {
            "gridcolor": "white",
            "linecolor": "white",
            "ticks": ""
           }
          },
          "title": {
           "x": 0.05
          },
          "xaxis": {
           "automargin": true,
           "gridcolor": "white",
           "linecolor": "white",
           "ticks": "",
           "title": {
            "standoff": 15
           },
           "zerolinecolor": "white",
           "zerolinewidth": 2
          },
          "yaxis": {
           "automargin": true,
           "gridcolor": "white",
           "linecolor": "white",
           "ticks": "",
           "title": {
            "standoff": 15
           },
           "zerolinecolor": "white",
           "zerolinewidth": 2
          }
         }
        },
        "width": 700,
        "xaxis": {
         "anchor": "y",
         "domain": [
          0,
          1
         ],
         "title": {
          "text": "num_k"
         }
        },
        "yaxis": {
         "anchor": "x",
         "domain": [
          0,
          1
         ],
         "title": {
          "text": "auc_score"
         }
        }
       }
      }
     },
     "metadata": {},
     "output_type": "display_data"
    }
   ],
   "source": [
    "# Generate AUC scores for KNN on dataset\n",
    "# based on n_neighbors range 1-20\n",
    "num_k = []\n",
    "auc_score = []\n",
    "for i in range(1,21):\n",
    "    num_k.append(i)\n",
    "    knn = KNeighborsClassifier(n_neighbors=i)\n",
    "    knn.fit(X_train,y_train)\n",
    "    y_scores = knn.predict_proba(X_test)\n",
    "    fpr, tpr, threshold = roc_curve(y_test, y_scores[:, 1])\n",
    "    roc_auc = auc(fpr, tpr)\n",
    "    auc_score.append(roc_auc)\n",
    "\n",
    "# Create dataframe from AUC scores\n",
    "pltscore = pd.DataFrame({'num_k': num_k,\n",
    "                         'auc_score': auc_score})\n",
    "\n",
    "# Plot KNN AUC frontier\n",
    "fig = px.line(pltscore,\n",
    "              x='num_k',\n",
    "              y='auc_score',\n",
    "              width=700,\n",
    "              height=500)\n",
    "fig.show()\n"
   ]
  },
  {
   "cell_type": "markdown",
   "id": "346225df",
   "metadata": {},
   "source": [
    "As expected, we start to see dramatically diminishing returns after a $k$ of 10, but no significant drop in accuracy. This reaffirms our choice of $k$ = 13."
   ]
  },
  {
   "cell_type": "markdown",
   "id": "44ec8ab7",
   "metadata": {},
   "source": [
    "### E2: Results & Implications"
   ]
  },
  {
   "cell_type": "markdown",
   "id": "6f0f5aff",
   "metadata": {},
   "source": [
    "As mentioned above, our model performed incredibly well in classifying readmission based on the features `Initial_days` and `VitD_levels`. As a result, our analysis supports the rejection of the null hypothesis ($H_0$) which states:\n",
    "\n",
    ">The recorded vitamin D level (`VitD_levels`) and length of initial hospitalization (`Initial_days`) features from the medical readmission dataset have *no* statistically significant predictive power to classify a given patient's readmission status (`ReAdmis`).\n",
    "\n",
    "Furthermore, our analysis supports the acceptance of the alternate hypothesis ($H_1$) which states:\n",
    "\n",
    ">The recorded vitamin D levels (`VitD_levels`) and length of initial hospitalization (`Initial_days`) features from the medical readmission dataset *do* classify a given patient's readmission status (`ReAdmis`) in a statistically significant way.\n",
    "\n",
    "Therefore, our initial research question (Can a patient's readmission (`ReAdmis`) status (`Yes/No`) be accurately classified given their recorded vitamin D level (`VitD_levels`) and number of days initially hospitalized (`Initial_days`)?) is answered in the affirmative based on the results of our above analysis.\n",
    "\n",
    "It seems evident that the selected features provide for the ability to classify with a high level of accuracy the readmission status of a given patient. With regard to implications, though the analysis does not explicitly provide the insight into whether or not these features are also predictive of readmission status, it is reasonable to preliminarily assume that as a patient's initial stay lengthens and their vitamin D level is relatively low, the probability that patient will be readmitted increases. This would imply that, if the goal is to reduce readmissions a much as possible, a sensible course of action could include measures to shorten initial length of stay as much as possible and support vitamin D levels if low."
   ]
  },
  {
   "cell_type": "markdown",
   "id": "a411da08",
   "metadata": {},
   "source": [
    "### E3: Limitations"
   ]
  },
  {
   "cell_type": "markdown",
   "id": "8aab8cc5",
   "metadata": {},
   "source": [
    "One limitation of the analysis is the nature of the distribution of several features, including initial length of hospitalization (`Initial_days`). As the distribution of this feature is not normal and is heavily binomial, the reliability of the analysis becomes more difficult to ascertain. In terms of assumptions, normal distribution is not indicated for $k\\text{NN}$ and therefore the classification modelling should not suffer from a non-normal distribution. However, another limitation of the `Initial_days` feature is that it is somewhat obvious that the longer a patient is initially hospitalized, the more likely they are to be readmitted. Though, often presumptions are proven incorrect upon further analysis, therefore this analysis is at least confirmatory."
   ]
  },
  {
   "cell_type": "markdown",
   "id": "a411da08",
   "metadata": {},
   "source": [
    "### E4: Course of Action"
   ]
  },
  {
   "cell_type": "markdown",
   "id": "8fedab90",
   "metadata": {},
   "source": [
    "As a result of the analysis performed, it is recommended that the organization take actions to limit a patient's initial length of stay and support a patient's vitamin D level if low. Leadership should consult with physicians on safe and effective ways to shorten hospitalizations and address low vitamin D levels. It is possible this would lead to lower rates of readmission. Additionally, further analysis and inquiry is recommended to better understand and enhance the data gathering process. In particular, investigating the integrity and reliability of the `Initial_days` feature is recommended. Ensuring that the underlying data is as reliable as possible will lead to better and more useful analysis in the future. "
   ]
  }
 ],
 "metadata": {
  "colab": {
   "collapsed_sections": [],
   "name": "D207.ipynb",
   "provenance": [],
   "toc_visible": true
  },
  "interpreter": {
   "hash": "ee7b3818a6aefd810aeff047263e717e803ea4abd6d74acb2763496f3efe31f7"
  },
  "kernelspec": {
   "display_name": "Python 3.8.8 64-bit ('D208': conda)",
   "name": "python3"
  },
  "language_info": {
   "codemirror_mode": {
    "name": "ipython",
    "version": 3
   },
   "file_extension": ".py",
   "mimetype": "text/x-python",
   "name": "python",
   "nbconvert_exporter": "python",
   "pygments_lexer": "ipython3",
   "version": "3.9.10"
  }
 },
 "nbformat": 4,
 "nbformat_minor": 5
}
